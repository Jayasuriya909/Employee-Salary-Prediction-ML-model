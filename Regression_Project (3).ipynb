{
 "cells": [
  {
   "cell_type": "markdown",
   "id": "cc43249e-b3ce-4848-8181-ee8cf6fb41cb",
   "metadata": {},
   "source": [
    "# Project Title : Determination of Salary (Predictive Model)"
   ]
  },
  {
   "cell_type": "markdown",
   "id": "2977897e-28c6-4043-a150-31eda7a75c23",
   "metadata": {},
   "source": [
    "#### Given Statement :\n",
    "* Create a machine learning model which will help the company in determining the salary of newly hired employees using the given data. Machine learning, specifically regression, can be useful for TechWorks Consulting in determining or predicting the salary of an employee.\n",
    "#### Objective :\n",
    "* The objective of the study is to analyse the salary dataset obtained from “Tech Works Consulting” and to conduct various statistical hypothesis tests to get meaningful information from it. Our goal here is to understand the data as much as possible, comparing different models of regression and statistical algorithms to train the dataset and predict a continuous target variable. A thorough study of the data will aid in the discovery of valuable insights that will predict salary for employees.\n",
    "#### Table of Contents :\n",
    "* Reading and Understanding the Data\n",
    "* Data Cleansing\n",
    "* Data Visualization\n",
    "* Exploratory Data Analysis\n",
    "* Data Preprocessing\n",
    "* Model Selection & Building\n",
    "* Feature Importance\n",
    "* Final Analysis"
   ]
  },
  {
   "cell_type": "markdown",
   "id": "da256bc5-d8a6-4ad6-969b-0579c3b6084e",
   "metadata": {},
   "source": [
    "## 1.Reading and Understanding the Data\n",
    "### 1.1 Importing Python Libraries\n",
    "Data Handling Libraries"
   ]
  },
  {
   "cell_type": "code",
   "execution_count": 4,
   "id": "307ff572-1f65-4124-a470-526f15cfa946",
   "metadata": {},
   "outputs": [],
   "source": [
    "import pandas as pd                                                          #For Data_Manipulation\n",
    "import numpy as np                                                           #For Data_Dimensions and other mathematical functions\n",
    "import warnings                                                              #For smooth interface while running\n",
    "warnings.filterwarnings('ignore')\n",
    "from termcolor import colored\n",
    "import matplotlib.pyplot as plt                                              #For Data_Visualization                                             \n",
    "import seaborn as sns                                                        #For Advance_Visualization"
   ]
  },
  {
   "cell_type": "markdown",
   "id": "341f3a47-f3a2-465e-84cb-057b6bd8d264",
   "metadata": {},
   "source": [
    "Data Modelling Libraries"
   ]
  },
  {
   "cell_type": "code",
   "execution_count": 5,
   "id": "5be81114-fc7c-4c19-9769-71371d03b7f7",
   "metadata": {},
   "outputs": [],
   "source": [
    "from scipy.stats import norm                                                 #For Statistical Performance\n",
    "from sklearn.linear_model import LinearRegression                            #For Performing Regression \n",
    "from sklearn.linear_model import Ridge, Lasso                                #For Normalized Regression\n",
    "from sklearn.tree import DecisionTreeRegressor                               #For Performing TreeRegression\n",
    "from sklearn.ensemble import RandomForestRegressor, GradientBoostingRegressor, AdaBoostRegressor\n",
    "from xgboost import XGBRegressor\n",
    "from sklearn.model_selection import train_test_split, GridSearchCV           #For Modelling the data\n",
    "from sklearn.model_selection import cross_val_score                         \n",
    "from sklearn.preprocessing import StandardScaler, MinMaxScaler               #For Normalize/Standarize the Data\n",
    "from sklearn.decomposition import PCA\n",
    "from sklearn.pipeline import Pipeline                                        #For Clustering the function\n",
    "from sklearn import metrics\n",
    "from sklearn.metrics import mean_squared_error,r2_score                      #For Evaluating the Models Performance"
   ]
  },
  {
   "cell_type": "markdown",
   "id": "fc488267-46d4-4b20-895e-24e4fdc1406d",
   "metadata": {},
   "source": [
    "### 1.2 Importing Data"
   ]
  },
  {
   "cell_type": "code",
   "execution_count": 6,
   "id": "de1ec46b-a649-4d13-99e1-de86c972623f",
   "metadata": {},
   "outputs": [],
   "source": [
    "Main_Data = pd.read_csv('C:/Users/welcome/Downloads/ML case Study.csv', header=0)\n",
    "college = pd.read_csv('C:/Users/welcome/Downloads/Colleges.csv', header=0)\n",
    "cities = pd.read_csv('C:/Users/welcome/Downloads/cities.csv',header=0)"
   ]
  },
  {
   "cell_type": "code",
   "execution_count": 5,
   "id": "3e64bd07-3148-408d-9a37-9cbe55f8da8e",
   "metadata": {},
   "outputs": [
    {
     "data": {
      "text/html": [
       "<div>\n",
       "<style scoped>\n",
       "    .dataframe tbody tr th:only-of-type {\n",
       "        vertical-align: middle;\n",
       "    }\n",
       "\n",
       "    .dataframe tbody tr th {\n",
       "        vertical-align: top;\n",
       "    }\n",
       "\n",
       "    .dataframe thead th {\n",
       "        text-align: right;\n",
       "    }\n",
       "</style>\n",
       "<table border=\"1\" class=\"dataframe\">\n",
       "  <thead>\n",
       "    <tr style=\"text-align: right;\">\n",
       "      <th></th>\n",
       "      <th>College</th>\n",
       "      <th>City</th>\n",
       "      <th>Role</th>\n",
       "      <th>Previous CTC</th>\n",
       "      <th>Previous job change</th>\n",
       "      <th>Graduation Marks</th>\n",
       "      <th>EXP (Month)</th>\n",
       "      <th>CTC</th>\n",
       "    </tr>\n",
       "  </thead>\n",
       "  <tbody>\n",
       "    <tr>\n",
       "      <th>0</th>\n",
       "      <td>SVNIT Surat</td>\n",
       "      <td>Asansol</td>\n",
       "      <td>Manager</td>\n",
       "      <td>55523.0</td>\n",
       "      <td>3</td>\n",
       "      <td>66</td>\n",
       "      <td>19</td>\n",
       "      <td>71406.58</td>\n",
       "    </tr>\n",
       "    <tr>\n",
       "      <th>1</th>\n",
       "      <td>NIT Bhopal</td>\n",
       "      <td>Ajmer</td>\n",
       "      <td>Executive</td>\n",
       "      <td>57081.0</td>\n",
       "      <td>1</td>\n",
       "      <td>84</td>\n",
       "      <td>18</td>\n",
       "      <td>68005.87</td>\n",
       "    </tr>\n",
       "    <tr>\n",
       "      <th>2</th>\n",
       "      <td>IEM, Kolkata</td>\n",
       "      <td>Rajpur Sonarpur</td>\n",
       "      <td>Executive</td>\n",
       "      <td>60347.0</td>\n",
       "      <td>2</td>\n",
       "      <td>52</td>\n",
       "      <td>28</td>\n",
       "      <td>76764.02</td>\n",
       "    </tr>\n",
       "    <tr>\n",
       "      <th>3</th>\n",
       "      <td>KIIT, Bhubaneswar</td>\n",
       "      <td>Ajmer</td>\n",
       "      <td>Executive</td>\n",
       "      <td>49010.0</td>\n",
       "      <td>2</td>\n",
       "      <td>81</td>\n",
       "      <td>33</td>\n",
       "      <td>82092.39</td>\n",
       "    </tr>\n",
       "    <tr>\n",
       "      <th>4</th>\n",
       "      <td>DTU</td>\n",
       "      <td>Durgapur</td>\n",
       "      <td>Executive</td>\n",
       "      <td>57879.0</td>\n",
       "      <td>4</td>\n",
       "      <td>74</td>\n",
       "      <td>32</td>\n",
       "      <td>73878.10</td>\n",
       "    </tr>\n",
       "  </tbody>\n",
       "</table>\n",
       "</div>"
      ],
      "text/plain": [
       "             College             City       Role  Previous CTC  \\\n",
       "0        SVNIT Surat          Asansol    Manager       55523.0   \n",
       "1         NIT Bhopal            Ajmer  Executive       57081.0   \n",
       "2       IEM, Kolkata  Rajpur Sonarpur  Executive       60347.0   \n",
       "3  KIIT, Bhubaneswar            Ajmer  Executive       49010.0   \n",
       "4                DTU         Durgapur  Executive       57879.0   \n",
       "\n",
       "   Previous job change  Graduation Marks  EXP (Month)       CTC  \n",
       "0                    3                66           19  71406.58  \n",
       "1                    1                84           18  68005.87  \n",
       "2                    2                52           28  76764.02  \n",
       "3                    2                81           33  82092.39  \n",
       "4                    4                74           32  73878.10  "
      ]
     },
     "execution_count": 5,
     "metadata": {},
     "output_type": "execute_result"
    }
   ],
   "source": [
    "Main_Data.head()"
   ]
  },
  {
   "cell_type": "code",
   "execution_count": 6,
   "id": "90e33817-6cbe-4471-a151-3baeea26d9c4",
   "metadata": {},
   "outputs": [
    {
     "data": {
      "text/html": [
       "<div>\n",
       "<style scoped>\n",
       "    .dataframe tbody tr th:only-of-type {\n",
       "        vertical-align: middle;\n",
       "    }\n",
       "\n",
       "    .dataframe tbody tr th {\n",
       "        vertical-align: top;\n",
       "    }\n",
       "\n",
       "    .dataframe thead th {\n",
       "        text-align: right;\n",
       "    }\n",
       "</style>\n",
       "<table border=\"1\" class=\"dataframe\">\n",
       "  <thead>\n",
       "    <tr style=\"text-align: right;\">\n",
       "      <th></th>\n",
       "      <th>Tier 1</th>\n",
       "      <th>Tier 2</th>\n",
       "      <th>Tier 3</th>\n",
       "    </tr>\n",
       "  </thead>\n",
       "  <tbody>\n",
       "    <tr>\n",
       "      <th>0</th>\n",
       "      <td>IIT Bombay</td>\n",
       "      <td>IIIT Bangalore</td>\n",
       "      <td>Ramaiah Institute of Technology, Bengaluru</td>\n",
       "    </tr>\n",
       "    <tr>\n",
       "      <th>1</th>\n",
       "      <td>IIT Delhi</td>\n",
       "      <td>IIIT Delhi</td>\n",
       "      <td>TIET/Thapar University</td>\n",
       "    </tr>\n",
       "    <tr>\n",
       "      <th>2</th>\n",
       "      <td>IIT Kharagpur</td>\n",
       "      <td>IGDTUW</td>\n",
       "      <td>Manipal Main Campus</td>\n",
       "    </tr>\n",
       "    <tr>\n",
       "      <th>3</th>\n",
       "      <td>IIT Madras</td>\n",
       "      <td>NIT Calicut</td>\n",
       "      <td>VIT Vellore</td>\n",
       "    </tr>\n",
       "    <tr>\n",
       "      <th>4</th>\n",
       "      <td>IIT Kanpur</td>\n",
       "      <td>IIITM Gwalior</td>\n",
       "      <td>SRM Main Campus</td>\n",
       "    </tr>\n",
       "  </tbody>\n",
       "</table>\n",
       "</div>"
      ],
      "text/plain": [
       "          Tier 1          Tier 2                                      Tier 3\n",
       "0     IIT Bombay  IIIT Bangalore  Ramaiah Institute of Technology, Bengaluru\n",
       "1      IIT Delhi      IIIT Delhi                      TIET/Thapar University\n",
       "2  IIT Kharagpur          IGDTUW                         Manipal Main Campus\n",
       "3     IIT Madras     NIT Calicut                                 VIT Vellore\n",
       "4     IIT Kanpur   IIITM Gwalior                             SRM Main Campus"
      ]
     },
     "execution_count": 6,
     "metadata": {},
     "output_type": "execute_result"
    }
   ],
   "source": [
    "college.head()"
   ]
  },
  {
   "cell_type": "code",
   "execution_count": 7,
   "id": "c664590b-e943-4101-aeac-f9d670899c0c",
   "metadata": {},
   "outputs": [
    {
     "data": {
      "text/html": [
       "<div>\n",
       "<style scoped>\n",
       "    .dataframe tbody tr th:only-of-type {\n",
       "        vertical-align: middle;\n",
       "    }\n",
       "\n",
       "    .dataframe tbody tr th {\n",
       "        vertical-align: top;\n",
       "    }\n",
       "\n",
       "    .dataframe thead th {\n",
       "        text-align: right;\n",
       "    }\n",
       "</style>\n",
       "<table border=\"1\" class=\"dataframe\">\n",
       "  <thead>\n",
       "    <tr style=\"text-align: right;\">\n",
       "      <th></th>\n",
       "      <th>Metrio City</th>\n",
       "      <th>non-metro cities</th>\n",
       "    </tr>\n",
       "  </thead>\n",
       "  <tbody>\n",
       "    <tr>\n",
       "      <th>0</th>\n",
       "      <td>Mumbai</td>\n",
       "      <td>Dehradun</td>\n",
       "    </tr>\n",
       "    <tr>\n",
       "      <th>1</th>\n",
       "      <td>Delhi</td>\n",
       "      <td>Durgapur</td>\n",
       "    </tr>\n",
       "    <tr>\n",
       "      <th>2</th>\n",
       "      <td>Kolkata</td>\n",
       "      <td>Asansol</td>\n",
       "    </tr>\n",
       "    <tr>\n",
       "      <th>3</th>\n",
       "      <td>Chennai</td>\n",
       "      <td>Rourkela</td>\n",
       "    </tr>\n",
       "    <tr>\n",
       "      <th>4</th>\n",
       "      <td>Bangalore</td>\n",
       "      <td>Kozhikode</td>\n",
       "    </tr>\n",
       "  </tbody>\n",
       "</table>\n",
       "</div>"
      ],
      "text/plain": [
       "  Metrio City non-metro cities\n",
       "0      Mumbai         Dehradun\n",
       "1       Delhi         Durgapur\n",
       "2     Kolkata          Asansol\n",
       "3     Chennai         Rourkela\n",
       "4   Bangalore        Kozhikode"
      ]
     },
     "execution_count": 7,
     "metadata": {},
     "output_type": "execute_result"
    }
   ],
   "source": [
    "cities.head()"
   ]
  },
  {
   "cell_type": "markdown",
   "id": "0183afaf-f1bb-49f8-8f69-049dcdc0c54e",
   "metadata": {},
   "source": [
    "## 2.Data Cleansing\n",
    "Data Joining & Manipulating"
   ]
  },
  {
   "cell_type": "code",
   "execution_count": 7,
   "id": "10ddc824-deee-4b42-93f2-c4837d75b22e",
   "metadata": {},
   "outputs": [],
   "source": [
    "#Dropping 'nan' values and converted into list\n",
    "Tier1 = college['Tier 1'].dropna().tolist() \n",
    "Tier2 = college['Tier 2'].dropna().tolist()\n",
    "Tier3 = college['Tier 3'].dropna().tolist()\n",
    "Metro_city = cities['Metrio City'].dropna().tolist()\n",
    "Non_Metrocity = cities['non-metro cities'].dropna().tolist()"
   ]
  },
  {
   "cell_type": "code",
   "execution_count": 8,
   "id": "eca4726d-03de-4262-9082-9e4da1487dc6",
   "metadata": {},
   "outputs": [],
   "source": [
    "#Converting categorical data into numerical data\n",
    "'''Tier1 = 1, Tier2 = 2, Tier3 = 3'''\n",
    "for item in Main_Data.College:\n",
    "    if item in Tier1:\n",
    "        Main_Data['College'].replace(item,1,inplace=True)\n",
    "    elif item in Tier2:\n",
    "        Main_Data['College'].replace(item,2,inplace=True)\n",
    "    elif item in Tier3:\n",
    "        Main_Data['College'].replace(item,3,inplace=True)"
   ]
  },
  {
   "cell_type": "code",
   "execution_count": 9,
   "id": "053c9057-dd45-467d-82d4-3eb1e55ae835",
   "metadata": {},
   "outputs": [],
   "source": [
    "#Converting categorical data into numerical data\n",
    "'''Metro_city = 1,Non-Metrocity = 0'''\n",
    "for item in Main_Data.City:\n",
    "    if item in Metro_city:\n",
    "        Main_Data['City'].replace(item,1,inplace=True)\n",
    "    elif item in Non_Metrocity:\n",
    "        Main_Data['City'].replace(item,0,inplace=True)"
   ]
  },
  {
   "cell_type": "code",
   "execution_count": 11,
   "id": "b7374f80-ca40-4566-98c2-1d8026e1bc27",
   "metadata": {},
   "outputs": [
    {
     "data": {
      "text/html": [
       "<div>\n",
       "<style scoped>\n",
       "    .dataframe tbody tr th:only-of-type {\n",
       "        vertical-align: middle;\n",
       "    }\n",
       "\n",
       "    .dataframe tbody tr th {\n",
       "        vertical-align: top;\n",
       "    }\n",
       "\n",
       "    .dataframe thead th {\n",
       "        text-align: right;\n",
       "    }\n",
       "</style>\n",
       "<table border=\"1\" class=\"dataframe\">\n",
       "  <thead>\n",
       "    <tr style=\"text-align: right;\">\n",
       "      <th></th>\n",
       "      <th>College</th>\n",
       "      <th>City</th>\n",
       "      <th>Role</th>\n",
       "      <th>Previous CTC</th>\n",
       "      <th>Previous job change</th>\n",
       "      <th>Graduation Marks</th>\n",
       "      <th>EXP (Month)</th>\n",
       "      <th>CTC</th>\n",
       "    </tr>\n",
       "  </thead>\n",
       "  <tbody>\n",
       "    <tr>\n",
       "      <th>0</th>\n",
       "      <td>2</td>\n",
       "      <td>0</td>\n",
       "      <td>Manager</td>\n",
       "      <td>55523.0</td>\n",
       "      <td>3</td>\n",
       "      <td>66</td>\n",
       "      <td>19</td>\n",
       "      <td>71406.58</td>\n",
       "    </tr>\n",
       "    <tr>\n",
       "      <th>1</th>\n",
       "      <td>2</td>\n",
       "      <td>0</td>\n",
       "      <td>Executive</td>\n",
       "      <td>57081.0</td>\n",
       "      <td>1</td>\n",
       "      <td>84</td>\n",
       "      <td>18</td>\n",
       "      <td>68005.87</td>\n",
       "    </tr>\n",
       "    <tr>\n",
       "      <th>2</th>\n",
       "      <td>3</td>\n",
       "      <td>0</td>\n",
       "      <td>Executive</td>\n",
       "      <td>60347.0</td>\n",
       "      <td>2</td>\n",
       "      <td>52</td>\n",
       "      <td>28</td>\n",
       "      <td>76764.02</td>\n",
       "    </tr>\n",
       "    <tr>\n",
       "      <th>3</th>\n",
       "      <td>3</td>\n",
       "      <td>0</td>\n",
       "      <td>Executive</td>\n",
       "      <td>49010.0</td>\n",
       "      <td>2</td>\n",
       "      <td>81</td>\n",
       "      <td>33</td>\n",
       "      <td>82092.39</td>\n",
       "    </tr>\n",
       "    <tr>\n",
       "      <th>4</th>\n",
       "      <td>1</td>\n",
       "      <td>0</td>\n",
       "      <td>Executive</td>\n",
       "      <td>57879.0</td>\n",
       "      <td>4</td>\n",
       "      <td>74</td>\n",
       "      <td>32</td>\n",
       "      <td>73878.10</td>\n",
       "    </tr>\n",
       "  </tbody>\n",
       "</table>\n",
       "</div>"
      ],
      "text/plain": [
       "   College  City       Role  Previous CTC  Previous job change  \\\n",
       "0        2     0    Manager       55523.0                    3   \n",
       "1        2     0  Executive       57081.0                    1   \n",
       "2        3     0  Executive       60347.0                    2   \n",
       "3        3     0  Executive       49010.0                    2   \n",
       "4        1     0  Executive       57879.0                    4   \n",
       "\n",
       "   Graduation Marks  EXP (Month)       CTC  \n",
       "0                66           19  71406.58  \n",
       "1                84           18  68005.87  \n",
       "2                52           28  76764.02  \n",
       "3                81           33  82092.39  \n",
       "4                74           32  73878.10  "
      ]
     },
     "execution_count": 11,
     "metadata": {},
     "output_type": "execute_result"
    }
   ],
   "source": [
    "Main_Data.head()"
   ]
  },
  {
   "cell_type": "code",
   "execution_count": 12,
   "id": "d4e6e55b-203d-4f1d-a6b9-eb0f270f725a",
   "metadata": {},
   "outputs": [
    {
     "name": "stdout",
     "output_type": "stream",
     "text": [
      "<class 'pandas.core.frame.DataFrame'>\n",
      "RangeIndex: 1589 entries, 0 to 1588\n",
      "Data columns (total 8 columns):\n",
      " #   Column               Non-Null Count  Dtype  \n",
      "---  ------               --------------  -----  \n",
      " 0   College              1589 non-null   int64  \n",
      " 1   City                 1589 non-null   int64  \n",
      " 2   Role                 1589 non-null   object \n",
      " 3   Previous CTC         1589 non-null   float64\n",
      " 4   Previous job change  1589 non-null   int64  \n",
      " 5   Graduation Marks     1589 non-null   int64  \n",
      " 6   EXP (Month)          1589 non-null   int64  \n",
      " 7   CTC                  1589 non-null   float64\n",
      "dtypes: float64(2), int64(5), object(1)\n",
      "memory usage: 99.4+ KB\n"
     ]
    }
   ],
   "source": [
    "Main_Data.info()"
   ]
  },
  {
   "cell_type": "markdown",
   "id": "04d40666-c2b7-478f-8e80-07593653c46d",
   "metadata": {},
   "source": [
    "##### --No Missing values and null values"
   ]
  },
  {
   "cell_type": "markdown",
   "id": "3747a924-9d91-462e-be4a-a4c718973bfa",
   "metadata": {},
   "source": [
    "## 3.Data Visualization"
   ]
  },
  {
   "cell_type": "markdown",
   "id": "44c44fdc-7dde-4e6c-9505-ba1035aef95e",
   "metadata": {},
   "source": [
    "### 3.1 FEATURES\n",
    "The various features of the cleaned dataset are explained below:\n",
    "\n",
    "| Feature                   | Description                                                                                  |\n",
    "|---------------------------|----------------------------------------------------------------------------------------------|\n",
    "| **College**               | Colleges are classified into Tier1, Tier2, Tier3 as 1, 2, 3                                  |\n",
    "| **City**                  | Cities are classified into Metro, Non-metro cities as 1, 0                                   |\n",
    "| **Role**                  | Roles are classified into Executive and Manager                                              |\n",
    "| **Previous CTC**          | Salary in the previous company                                                               |\n",
    "| **Previous job change**   | Job switch count numbers                                                                     |\n",
    "| **Graduation Marks**      | Employees' Graduation Marks                                                                  |\n",
    "| **EXP (Month)**           | Employees' experience in month count                                                         |\n",
    "| **CTC**                   | Salary in this company for employees (Target Variable)                                       |"
   ]
  },
  {
   "cell_type": "markdown",
   "id": "2f1c0d77-f304-434a-b1a2-04c390af1189",
   "metadata": {},
   "source": [
    "### 3.2 Features Chart Visualization"
   ]
  },
  {
   "cell_type": "code",
   "execution_count": 15,
   "id": "c1131395-703a-4e18-9f47-4cd6161ebf39",
   "metadata": {},
   "outputs": [
    {
     "data": {
      "text/plain": [
       "Text(0.5, 1.0, 'Roles')"
      ]
     },
     "execution_count": 15,
     "metadata": {},
     "output_type": "execute_result"
    },
    {
     "data": {
      "image/png": "[encoded data removed]",
      "text/plain": [
       "<Figure size 1000x600 with 2 Axes>"
      ]
     },
     "metadata": {},
     "output_type": "display_data"
    }
   ],
   "source": [
    "# Visualizations\n",
    "plt.figure(figsize=(10, 6))\n",
    "\n",
    "# Total Roles by Barchart\n",
    "plt.subplot(2, 2, 1)\n",
    "sns.countplot(x=\"Role\", data=Main_Data, palette='coolwarm')\n",
    "\n",
    "#Total Roles by Piechart\n",
    "roles = Main_Data['Role'].value_counts()\n",
    "plt.subplot(2, 2, 2)\n",
    "plt.pie(roles, labels=roles.index, autopct='%1.1f%%',colors=sns.color_palette(\"pastel\"))\n",
    "plt.title('Roles')"
   ]
  },
  {
   "cell_type": "code",
   "execution_count": 16,
   "id": "0c630ce9-165e-4487-9693-b9a7526e3ac8",
   "metadata": {},
   "outputs": [
    {
     "data": {
      "text/plain": [
       "Text(0.5, 1.0, 'College_Tiers')"
      ]
     },
     "execution_count": 16,
     "metadata": {},
     "output_type": "execute_result"
    },
    {
     "data": {
      "image/png": "[encoded data removed]",
      "text/plain": [
       "<Figure size 1000x600 with 2 Axes>"
      ]
     },
     "metadata": {},
     "output_type": "display_data"
    }
   ],
   "source": [
    "#Total College_Tiers by Barchart\n",
    "plt.figure(figsize=(10,6))\n",
    "plt.subplot(2, 2, 1)\n",
    "sns.countplot(x=\"College\", data=Main_Data, palette='coolwarm')\n",
    "\n",
    "#Total College_Tiers by Piechart\n",
    "colleges = Main_Data['College'].value_counts()\n",
    "plt.subplot(2, 2, 2)\n",
    "plt.pie(colleges, labels=colleges.index, autopct='%1.1f%%',colors=sns.color_palette(\"pastel\"))\n",
    "plt.title('College_Tiers')"
   ]
  },
  {
   "cell_type": "code",
   "execution_count": 17,
   "id": "16444fb3-6e6d-4035-b3e7-5ecd0f8e27ad",
   "metadata": {},
   "outputs": [
    {
     "data": {
      "text/plain": [
       "Text(0.5, 1.0, 'Job_switch by Count')"
      ]
     },
     "execution_count": 17,
     "metadata": {},
     "output_type": "execute_result"
    },
    {
     "data": {
      "image/png": "[encoded data removed]",
      "text/plain": [
       "<Figure size 1000x600 with 2 Axes>"
      ]
     },
     "metadata": {},
     "output_type": "display_data"
    }
   ],
   "source": [
    "#Employees with Job switch counts Barchart\n",
    "plt.figure(figsize=(10,6))\n",
    "plt.subplot(2, 2, 1)\n",
    "sns.countplot(x=\"Previous job change\", data=Main_Data, palette='coolwarm')\n",
    "\n",
    "#Employees with Job switch counts Piechart\n",
    "Job_switch = Main_Data['Previous job change'].value_counts()\n",
    "plt.subplot(2, 2, 2)\n",
    "plt.pie(Job_switch, labels=Job_switch.index, autopct='%1.1f%%',colors=sns.color_palette(\"pastel\"))\n",
    "plt.title('Job_switch by Count')"
   ]
  },
  {
   "cell_type": "code",
   "execution_count": 10,
   "id": "279143c5-5b3c-4939-988f-f75c58350d8d",
   "metadata": {},
   "outputs": [],
   "source": [
    "df = Main_Data.copy()                                                                                      #Data copied before doing someother functions"
   ]
  },
  {
   "cell_type": "code",
   "execution_count": 19,
   "id": "10eafdc8-3edf-49bc-b4ac-99369000cb06",
   "metadata": {},
   "outputs": [
    {
     "data": {
      "image/png": "[encoded data removed]",
      "text/plain": [
       "<Figure size 1000x600 with 2 Axes>"
      ]
     },
     "metadata": {},
     "output_type": "display_data"
    }
   ],
   "source": [
    "def plot_ctc_by_experience_role(df, bin_width):\n",
    "    # Create bins\n",
    "    bins = range(min(df['EXP (Month)']), max(df['EXP (Month)']) + bin_width, bin_width)\n",
    "    labels = [f'{i}-{i+bin_width-1}' for i in bins[:-1]]\n",
    "    \n",
    "    # Copy the DataFrame and bin the data\n",
    "    Binned_df = df.copy()\n",
    "    Binned_df['experience_bin'] = pd.cut(Binned_df['EXP (Month)'], bins=bins, labels=labels, include_lowest=True)\n",
    "    \n",
    "    # List unique roles\n",
    "    roles = Binned_df['Role'].unique()\n",
    "    \n",
    "    # Set up the matplotlib figure\n",
    "    plt.figure(figsize=(10, 3 * len(roles)))\n",
    "    \n",
    "    for i, role in enumerate(roles):\n",
    "        role_df = Binned_df[Binned_df['Role'] == role]\n",
    "        agg_data = role_df.groupby('experience_bin').agg({'CTC': 'mean'}).reset_index()\n",
    "        \n",
    "        plt.subplot(len(roles), 2, i + 1)\n",
    "        sns.barplot(x='experience_bin', y='CTC', data=agg_data, palette='viridis')\n",
    "        \n",
    "        # Add titles and labels\n",
    "        plt.title(f'{role.capitalize()} (Bin Width: {bin_width} months)')\n",
    "        plt.xlabel('Experience Months (Binned)')\n",
    "        plt.ylabel('Average CTC')\n",
    "        plt.tight_layout()\n",
    "# Bin width of 8 months\n",
    "plot_ctc_by_experience_role(Main_Data, 8)                                                                             #You can change your bin size here"
   ]
  },
  {
   "cell_type": "markdown",
   "id": "5df10327-f51d-4c00-8533-6bdb485a2f53",
   "metadata": {},
   "source": [
    "## 4.Exploratory Data Analysis\n",
    "### 4.1 Outlier Validation"
   ]
  },
  {
   "cell_type": "code",
   "execution_count": 21,
   "id": "8481f174-9b63-471c-8cb7-9ff20916d4a2",
   "metadata": {},
   "outputs": [
    {
     "data": {
      "text/html": [
       "<div>\n",
       "<style scoped>\n",
       "    .dataframe tbody tr th:only-of-type {\n",
       "        vertical-align: middle;\n",
       "    }\n",
       "\n",
       "    .dataframe tbody tr th {\n",
       "        vertical-align: top;\n",
       "    }\n",
       "\n",
       "    .dataframe thead th {\n",
       "        text-align: right;\n",
       "    }\n",
       "</style>\n",
       "<table border=\"1\" class=\"dataframe\">\n",
       "  <thead>\n",
       "    <tr style=\"text-align: right;\">\n",
       "      <th></th>\n",
       "      <th>College</th>\n",
       "      <th>City</th>\n",
       "      <th>Previous CTC</th>\n",
       "      <th>Previous job change</th>\n",
       "      <th>Graduation Marks</th>\n",
       "      <th>EXP (Month)</th>\n",
       "      <th>CTC</th>\n",
       "    </tr>\n",
       "  </thead>\n",
       "  <tbody>\n",
       "    <tr>\n",
       "      <th>count</th>\n",
       "      <td>1589.000000</td>\n",
       "      <td>1589.000000</td>\n",
       "      <td>1589.000000</td>\n",
       "      <td>1589.000000</td>\n",
       "      <td>1589.000000</td>\n",
       "      <td>1589.000000</td>\n",
       "      <td>1589.000000</td>\n",
       "    </tr>\n",
       "    <tr>\n",
       "      <th>mean</th>\n",
       "      <td>1.975456</td>\n",
       "      <td>0.514160</td>\n",
       "      <td>55518.453744</td>\n",
       "      <td>2.528634</td>\n",
       "      <td>59.855255</td>\n",
       "      <td>39.044682</td>\n",
       "      <td>75353.278798</td>\n",
       "    </tr>\n",
       "    <tr>\n",
       "      <th>std</th>\n",
       "      <td>0.838330</td>\n",
       "      <td>0.499957</td>\n",
       "      <td>6655.218445</td>\n",
       "      <td>1.123918</td>\n",
       "      <td>14.935139</td>\n",
       "      <td>14.108875</td>\n",
       "      <td>12587.288237</td>\n",
       "    </tr>\n",
       "    <tr>\n",
       "      <th>min</th>\n",
       "      <td>1.000000</td>\n",
       "      <td>0.000000</td>\n",
       "      <td>36990.000000</td>\n",
       "      <td>1.000000</td>\n",
       "      <td>35.000000</td>\n",
       "      <td>18.000000</td>\n",
       "      <td>53020.320000</td>\n",
       "    </tr>\n",
       "    <tr>\n",
       "      <th>25%</th>\n",
       "      <td>1.000000</td>\n",
       "      <td>0.000000</td>\n",
       "      <td>50518.000000</td>\n",
       "      <td>2.000000</td>\n",
       "      <td>46.000000</td>\n",
       "      <td>26.000000</td>\n",
       "      <td>66902.350000</td>\n",
       "    </tr>\n",
       "    <tr>\n",
       "      <th>50%</th>\n",
       "      <td>2.000000</td>\n",
       "      <td>1.000000</td>\n",
       "      <td>55291.000000</td>\n",
       "      <td>3.000000</td>\n",
       "      <td>60.000000</td>\n",
       "      <td>39.000000</td>\n",
       "      <td>73028.670000</td>\n",
       "    </tr>\n",
       "    <tr>\n",
       "      <th>75%</th>\n",
       "      <td>3.000000</td>\n",
       "      <td>1.000000</td>\n",
       "      <td>60109.000000</td>\n",
       "      <td>4.000000</td>\n",
       "      <td>73.000000</td>\n",
       "      <td>51.000000</td>\n",
       "      <td>80588.670000</td>\n",
       "    </tr>\n",
       "    <tr>\n",
       "      <th>max</th>\n",
       "      <td>3.000000</td>\n",
       "      <td>1.000000</td>\n",
       "      <td>77911.000000</td>\n",
       "      <td>4.000000</td>\n",
       "      <td>85.000000</td>\n",
       "      <td>64.000000</td>\n",
       "      <td>123416.990000</td>\n",
       "    </tr>\n",
       "  </tbody>\n",
       "</table>\n",
       "</div>"
      ],
      "text/plain": [
       "           College         City  Previous CTC  Previous job change  \\\n",
       "count  1589.000000  1589.000000   1589.000000          1589.000000   \n",
       "mean      1.975456     0.514160  55518.453744             2.528634   \n",
       "std       0.838330     0.499957   6655.218445             1.123918   \n",
       "min       1.000000     0.000000  36990.000000             1.000000   \n",
       "25%       1.000000     0.000000  50518.000000             2.000000   \n",
       "50%       2.000000     1.000000  55291.000000             3.000000   \n",
       "75%       3.000000     1.000000  60109.000000             4.000000   \n",
       "max       3.000000     1.000000  77911.000000             4.000000   \n",
       "\n",
       "       Graduation Marks  EXP (Month)            CTC  \n",
       "count       1589.000000  1589.000000    1589.000000  \n",
       "mean          59.855255    39.044682   75353.278798  \n",
       "std           14.935139    14.108875   12587.288237  \n",
       "min           35.000000    18.000000   53020.320000  \n",
       "25%           46.000000    26.000000   66902.350000  \n",
       "50%           60.000000    39.000000   73028.670000  \n",
       "75%           73.000000    51.000000   80588.670000  \n",
       "max           85.000000    64.000000  123416.990000  "
      ]
     },
     "execution_count": 21,
     "metadata": {},
     "output_type": "execute_result"
    }
   ],
   "source": [
    "df.describe()"
   ]
  },
  {
   "cell_type": "code",
   "execution_count": 22,
   "id": "5df55a40-d688-4309-a4a3-dc34af12e891",
   "metadata": {},
   "outputs": [
    {
     "data": {
      "text/html": [
       "<div>\n",
       "<style scoped>\n",
       "    .dataframe tbody tr th:only-of-type {\n",
       "        vertical-align: middle;\n",
       "    }\n",
       "\n",
       "    .dataframe tbody tr th {\n",
       "        vertical-align: top;\n",
       "    }\n",
       "\n",
       "    .dataframe thead th {\n",
       "        text-align: right;\n",
       "    }\n",
       "</style>\n",
       "<table border=\"1\" class=\"dataframe\">\n",
       "  <thead>\n",
       "    <tr style=\"text-align: right;\">\n",
       "      <th></th>\n",
       "      <th>Role</th>\n",
       "    </tr>\n",
       "  </thead>\n",
       "  <tbody>\n",
       "    <tr>\n",
       "      <th>count</th>\n",
       "      <td>1589</td>\n",
       "    </tr>\n",
       "    <tr>\n",
       "      <th>unique</th>\n",
       "      <td>2</td>\n",
       "    </tr>\n",
       "    <tr>\n",
       "      <th>top</th>\n",
       "      <td>Executive</td>\n",
       "    </tr>\n",
       "    <tr>\n",
       "      <th>freq</th>\n",
       "      <td>1261</td>\n",
       "    </tr>\n",
       "  </tbody>\n",
       "</table>\n",
       "</div>"
      ],
      "text/plain": [
       "             Role\n",
       "count        1589\n",
       "unique          2\n",
       "top     Executive\n",
       "freq         1261"
      ]
     },
     "execution_count": 22,
     "metadata": {},
     "output_type": "execute_result"
    }
   ],
   "source": [
    "df.describe(include = object)"
   ]
  },
  {
   "cell_type": "code",
   "execution_count": 23,
   "id": "c61dd230-c199-4fd5-ae09-5d6d9b2b7bd7",
   "metadata": {},
   "outputs": [
    {
     "data": {
      "image/png": "[encoded data removed]",
      "text/plain": [
       "<Figure size 1200x600 with 2 Axes>"
      ]
     },
     "metadata": {},
     "output_type": "display_data"
    }
   ],
   "source": [
    "#Box_Plot Validation\n",
    "plt.figure(figsize=(12, 6))\n",
    "\n",
    "#Role vs CTC \n",
    "plt.subplot(2, 2, 1)\n",
    "sns.boxplot(x='Role', y='CTC', data=Main_Data)\n",
    "\n",
    "#Total CTC \n",
    "plt.subplot(2, 2, 2)\n",
    "sns.boxplot(x='CTC', data=Main_Data)\n",
    "\n",
    "plt.tight_layout()\n",
    "plt.show()"
   ]
  },
  {
   "cell_type": "markdown",
   "id": "8ce2ea8b-a09d-4ece-88dd-f75a2645bc3a",
   "metadata": {},
   "source": [
    "##### -From this we can see some outlier in upper_limit so we can cap this outlier but basically salary is an economic data, so preprocessing it."
   ]
  },
  {
   "cell_type": "markdown",
   "id": "6955f17e-7f67-4415-b5e0-a7f8f1b17322",
   "metadata": {},
   "source": [
    "#### Salary Distribution Band"
   ]
  },
  {
   "cell_type": "code",
   "execution_count": 24,
   "id": "6129156d-1686-477d-8c33-cc0b5a24dab8",
   "metadata": {},
   "outputs": [],
   "source": [
    "Salary = df['CTC'].values                                                                                                   # Converting CTC into Salary"
   ]
  },
  {
   "cell_type": "code",
   "execution_count": 25,
   "id": "9be05f9b-3077-49ed-9edb-83e6e2b6ba9d",
   "metadata": {},
   "outputs": [
    {
     "data": {
      "image/png": "[encoded data removed]",
      "text/plain": [
       "<Figure size 700x300 with 1 Axes>"
      ]
     },
     "metadata": {},
     "output_type": "display_data"
    }
   ],
   "source": [
    "# Salary Dist Analysis\n",
    "fig, ax = plt.subplots(figsize=(7, 3))\n",
    "\n",
    "# Plot the distribution with a normal distribution fit\n",
    "sns.histplot(Salary, kde=True, ax=ax, stat=\"density\", color='r', bins=30)\n",
    "\n",
    "# Fit a normal distribution and plot it\n",
    "mu, std = norm.fit(Salary)\n",
    "xmin, xmax = ax.get_xlim()\n",
    "x = np.linspace(xmin, xmax, 100)\n",
    "p = norm.pdf(x, mu, std)\n",
    "ax.plot(x, p, 'k', linewidth=2)\n",
    "\n",
    "# Add titles and labels\n",
    "ax.set_title('Salary Band Range', fontsize=14)\n",
    "ax.set_xlim([min(Salary), max(Salary)])\n",
    "ax.set_xlabel('Salary')\n",
    "ax.set_ylabel('Density')\n",
    "plt.show()"
   ]
  },
  {
   "cell_type": "markdown",
   "id": "77c611de-4c4d-4039-a7c9-3f81f59026ca",
   "metadata": {},
   "source": [
    "##### - Distributions  \n",
    "By seeing the distributions we can have an idea of how skewed are these features, and we can also see further distributions of the other features. There are techniques that can help the distributions be less skewed which will be implemented in this notebook in the future."
   ]
  },
  {
   "cell_type": "markdown",
   "id": "586117bb-ded6-463a-aaba-21669c30f070",
   "metadata": {},
   "source": [
    "### 4.2 InterQuartileRange (IQR) Method\n",
    "* IQR Method: Outliers are data points that fall below Q1−1.5×IQR above Q3+1.5×IQR"
   ]
  },
  {
   "cell_type": "code",
   "execution_count": 26,
   "id": "724ef22e-9da2-4fd7-8b75-47841ee88d51",
   "metadata": {},
   "outputs": [
    {
     "name": "stdout",
     "output_type": "stream",
     "text": [
      "Lower_Bound: \u001b[31m46372.87000000002\u001b[0m\n",
      "Upper_Bound: \u001b[31m101118.15\u001b[0m\n"
     ]
    }
   ],
   "source": [
    "Q1 = df['CTC'].quantile(0.25)\n",
    "Q3 = df['CTC'].quantile(0.75)\n",
    "IQR = Q3 - Q1\n",
    "lower_bound = Q1 - 1.5 * IQR\n",
    "upper_bound = Q3 + 1.5 * IQR\n",
    "print(\"Lower_Bound:\",(colored(lower_bound,'red')))\n",
    "print(\"Upper_Bound:\",(colored(upper_bound,'red')))"
   ]
  },
  {
   "cell_type": "code",
   "execution_count": 27,
   "id": "e44641f4-3e49-4b17-bb96-6be28becc055",
   "metadata": {},
   "outputs": [
    {
     "name": "stdout",
     "output_type": "stream",
     "text": [
      "Lower_Limit: \u001b[31m55386.704399999995\u001b[0m\n",
      "Upper_Limit: \u001b[31m112826.26\u001b[0m\n"
     ]
    }
   ],
   "source": [
    "lower_limit = df['CTC'].quantile(0.01)\n",
    "upper_limit = df['CTC'].quantile(0.99)\n",
    "print(\"Lower_Limit:\",(colored(lower_limit,'red')))\n",
    "print(\"Upper_Limit:\",(colored(upper_limit,'red')))"
   ]
  },
  {
   "cell_type": "code",
   "execution_count": 28,
   "id": "18a68403-73e6-4d0b-9e9e-93b172587f3a",
   "metadata": {},
   "outputs": [
    {
     "name": "stdout",
     "output_type": "stream",
     "text": [
      "99th Percentile (Upper Bound): \u001b[31m112826.26\u001b[0m\n"
     ]
    },
    {
     "data": {
      "text/html": [
       "<div>\n",
       "<style scoped>\n",
       "    .dataframe tbody tr th:only-of-type {\n",
       "        vertical-align: middle;\n",
       "    }\n",
       "\n",
       "    .dataframe tbody tr th {\n",
       "        vertical-align: top;\n",
       "    }\n",
       "\n",
       "    .dataframe thead th {\n",
       "        text-align: right;\n",
       "    }\n",
       "</style>\n",
       "<table border=\"1\" class=\"dataframe\">\n",
       "  <thead>\n",
       "    <tr style=\"text-align: right;\">\n",
       "      <th></th>\n",
       "      <th>College</th>\n",
       "      <th>City</th>\n",
       "      <th>Role</th>\n",
       "      <th>Previous CTC</th>\n",
       "      <th>Previous job change</th>\n",
       "      <th>Graduation Marks</th>\n",
       "      <th>EXP (Month)</th>\n",
       "      <th>CTC</th>\n",
       "    </tr>\n",
       "  </thead>\n",
       "  <tbody>\n",
       "    <tr>\n",
       "      <th>34</th>\n",
       "      <td>1</td>\n",
       "      <td>0</td>\n",
       "      <td>Manager</td>\n",
       "      <td>60894.0</td>\n",
       "      <td>4</td>\n",
       "      <td>80</td>\n",
       "      <td>28</td>\n",
       "      <td>118651.89</td>\n",
       "    </tr>\n",
       "    <tr>\n",
       "      <th>185</th>\n",
       "      <td>2</td>\n",
       "      <td>0</td>\n",
       "      <td>Manager</td>\n",
       "      <td>70258.0</td>\n",
       "      <td>4</td>\n",
       "      <td>38</td>\n",
       "      <td>36</td>\n",
       "      <td>115126.75</td>\n",
       "    </tr>\n",
       "    <tr>\n",
       "      <th>254</th>\n",
       "      <td>2</td>\n",
       "      <td>1</td>\n",
       "      <td>Manager</td>\n",
       "      <td>51912.0</td>\n",
       "      <td>2</td>\n",
       "      <td>66</td>\n",
       "      <td>50</td>\n",
       "      <td>113141.14</td>\n",
       "    </tr>\n",
       "    <tr>\n",
       "      <th>328</th>\n",
       "      <td>3</td>\n",
       "      <td>0</td>\n",
       "      <td>Manager</td>\n",
       "      <td>62264.0</td>\n",
       "      <td>2</td>\n",
       "      <td>52</td>\n",
       "      <td>64</td>\n",
       "      <td>114996.23</td>\n",
       "    </tr>\n",
       "    <tr>\n",
       "      <th>543</th>\n",
       "      <td>1</td>\n",
       "      <td>1</td>\n",
       "      <td>Manager</td>\n",
       "      <td>73856.0</td>\n",
       "      <td>1</td>\n",
       "      <td>75</td>\n",
       "      <td>54</td>\n",
       "      <td>121362.73</td>\n",
       "    </tr>\n",
       "    <tr>\n",
       "      <th>577</th>\n",
       "      <td>3</td>\n",
       "      <td>1</td>\n",
       "      <td>Manager</td>\n",
       "      <td>59101.0</td>\n",
       "      <td>3</td>\n",
       "      <td>56</td>\n",
       "      <td>31</td>\n",
       "      <td>113843.16</td>\n",
       "    </tr>\n",
       "    <tr>\n",
       "      <th>668</th>\n",
       "      <td>1</td>\n",
       "      <td>1</td>\n",
       "      <td>Manager</td>\n",
       "      <td>60476.0</td>\n",
       "      <td>1</td>\n",
       "      <td>85</td>\n",
       "      <td>62</td>\n",
       "      <td>113212.07</td>\n",
       "    </tr>\n",
       "    <tr>\n",
       "      <th>883</th>\n",
       "      <td>3</td>\n",
       "      <td>1</td>\n",
       "      <td>Manager</td>\n",
       "      <td>64930.0</td>\n",
       "      <td>1</td>\n",
       "      <td>66</td>\n",
       "      <td>51</td>\n",
       "      <td>114939.65</td>\n",
       "    </tr>\n",
       "    <tr>\n",
       "      <th>1146</th>\n",
       "      <td>1</td>\n",
       "      <td>1</td>\n",
       "      <td>Manager</td>\n",
       "      <td>61709.0</td>\n",
       "      <td>4</td>\n",
       "      <td>39</td>\n",
       "      <td>60</td>\n",
       "      <td>117207.24</td>\n",
       "    </tr>\n",
       "    <tr>\n",
       "      <th>1230</th>\n",
       "      <td>2</td>\n",
       "      <td>0</td>\n",
       "      <td>Manager</td>\n",
       "      <td>60298.0</td>\n",
       "      <td>1</td>\n",
       "      <td>47</td>\n",
       "      <td>52</td>\n",
       "      <td>123416.99</td>\n",
       "    </tr>\n",
       "    <tr>\n",
       "      <th>1240</th>\n",
       "      <td>2</td>\n",
       "      <td>1</td>\n",
       "      <td>Manager</td>\n",
       "      <td>67907.0</td>\n",
       "      <td>2</td>\n",
       "      <td>74</td>\n",
       "      <td>52</td>\n",
       "      <td>113508.80</td>\n",
       "    </tr>\n",
       "    <tr>\n",
       "      <th>1284</th>\n",
       "      <td>2</td>\n",
       "      <td>1</td>\n",
       "      <td>Manager</td>\n",
       "      <td>65519.0</td>\n",
       "      <td>3</td>\n",
       "      <td>55</td>\n",
       "      <td>61</td>\n",
       "      <td>117307.70</td>\n",
       "    </tr>\n",
       "    <tr>\n",
       "      <th>1300</th>\n",
       "      <td>2</td>\n",
       "      <td>1</td>\n",
       "      <td>Manager</td>\n",
       "      <td>59883.0</td>\n",
       "      <td>4</td>\n",
       "      <td>40</td>\n",
       "      <td>45</td>\n",
       "      <td>119585.49</td>\n",
       "    </tr>\n",
       "    <tr>\n",
       "      <th>1372</th>\n",
       "      <td>1</td>\n",
       "      <td>1</td>\n",
       "      <td>Manager</td>\n",
       "      <td>60894.0</td>\n",
       "      <td>4</td>\n",
       "      <td>80</td>\n",
       "      <td>28</td>\n",
       "      <td>118651.89</td>\n",
       "    </tr>\n",
       "    <tr>\n",
       "      <th>1523</th>\n",
       "      <td>2</td>\n",
       "      <td>1</td>\n",
       "      <td>Manager</td>\n",
       "      <td>70258.0</td>\n",
       "      <td>4</td>\n",
       "      <td>38</td>\n",
       "      <td>36</td>\n",
       "      <td>115126.75</td>\n",
       "    </tr>\n",
       "  </tbody>\n",
       "</table>\n",
       "</div>"
      ],
      "text/plain": [
       "      College  City     Role  Previous CTC  Previous job change  \\\n",
       "34          1     0  Manager       60894.0                    4   \n",
       "185         2     0  Manager       70258.0                    4   \n",
       "254         2     1  Manager       51912.0                    2   \n",
       "328         3     0  Manager       62264.0                    2   \n",
       "543         1     1  Manager       73856.0                    1   \n",
       "577         3     1  Manager       59101.0                    3   \n",
       "668         1     1  Manager       60476.0                    1   \n",
       "883         3     1  Manager       64930.0                    1   \n",
       "1146        1     1  Manager       61709.0                    4   \n",
       "1230        2     0  Manager       60298.0                    1   \n",
       "1240        2     1  Manager       67907.0                    2   \n",
       "1284        2     1  Manager       65519.0                    3   \n",
       "1300        2     1  Manager       59883.0                    4   \n",
       "1372        1     1  Manager       60894.0                    4   \n",
       "1523        2     1  Manager       70258.0                    4   \n",
       "\n",
       "      Graduation Marks  EXP (Month)        CTC  \n",
       "34                  80           28  118651.89  \n",
       "185                 38           36  115126.75  \n",
       "254                 66           50  113141.14  \n",
       "328                 52           64  114996.23  \n",
       "543                 75           54  121362.73  \n",
       "577                 56           31  113843.16  \n",
       "668                 85           62  113212.07  \n",
       "883                 66           51  114939.65  \n",
       "1146                39           60  117207.24  \n",
       "1230                47           52  123416.99  \n",
       "1240                74           52  113508.80  \n",
       "1284                55           61  117307.70  \n",
       "1300                40           45  119585.49  \n",
       "1372                80           28  118651.89  \n",
       "1523                38           36  115126.75  "
      ]
     },
     "execution_count": 28,
     "metadata": {},
     "output_type": "execute_result"
    }
   ],
   "source": [
    "# Calculate the 99th percentile\n",
    "Upper_Bound = np.percentile(df['CTC'], 99)\n",
    "print(f\"99th Percentile (Upper Bound): {(colored(Upper_Bound,'red'))}\")\n",
    "\n",
    "# Identify rows where 'CTC' is greater than the 99th percentile\n",
    "df[df['CTC'] > Upper_Bound]"
   ]
  },
  {
   "cell_type": "markdown",
   "id": "3e27b44f-e4e5-4025-9ed6-b56f7e7b3fba",
   "metadata": {},
   "source": [
    "--From this,we can see the some extreme outliers above the 1.5*IQR (It is not in the Salary Band Range)"
   ]
  },
  {
   "cell_type": "markdown",
   "id": "b203ba68-d2f8-486d-a7bf-4e908aa43b7f",
   "metadata": {},
   "source": [
    "##### Capping the Upper Bound Outliers :\n",
    "* Due to salary economic data, we could not treat the outlier as per default outlier treatment\n",
    "* It depends upon the need from the management requirements,may vary from company to company"
   ]
  },
  {
   "cell_type": "code",
   "execution_count": 55,
   "id": "448b64f9-c539-43e2-8ec9-7f3b9c67b742",
   "metadata": {},
   "outputs": [
    {
     "data": {
      "text/plain": [
       "'If the Outlier(Upper_bound) treatment is needed'"
      ]
     },
     "execution_count": 55,
     "metadata": {},
     "output_type": "execute_result"
    }
   ],
   "source": [
    "# Cap the outliers by replacing values greater than the 99th percentile\n",
    "#df['CTC'] = np.where(df['CTC'] > Upper_Bound, Upper_Bound, df['CTC'])\n",
    "\n",
    "# Display the updated DataFrame(CTC)\n",
    "#df.describe().T[['min','max']].style.background_gradient(axis=1)                                               \n",
    "'''If the Outlier(Upper_bound) treatment is needed'''\n",
    "#plt.figure(figsize=(12,2))\n",
    "#sns.boxplot(x='CTC', data=df)"
   ]
  },
  {
   "cell_type": "markdown",
   "id": "d106af2d-790b-4589-a7c2-747d1f004e84",
   "metadata": {},
   "source": [
    "### 4.3 Correlation\n",
    "##### 4.3.1 Converting Categorical variable into Numerical Variable\n",
    "Label Encoding for Correlation"
   ]
  },
  {
   "cell_type": "code",
   "execution_count": 13,
   "id": "4f3462a4-8ef3-42a1-b872-2853bfa2491a",
   "metadata": {},
   "outputs": [],
   "source": [
    "#Using Pandas to convert Categorical variable to Numerical variable\n",
    "Data = pd.get_dummies(df,dtype=int)"
   ]
  },
  {
   "cell_type": "code",
   "execution_count": 15,
   "id": "e04c6f21-31a7-421d-ad29-fd1cdc5d55ef",
   "metadata": {},
   "outputs": [
    {
     "data": {
      "text/html": [
       "<div>\n",
       "<style scoped>\n",
       "    .dataframe tbody tr th:only-of-type {\n",
       "        vertical-align: middle;\n",
       "    }\n",
       "\n",
       "    .dataframe tbody tr th {\n",
       "        vertical-align: top;\n",
       "    }\n",
       "\n",
       "    .dataframe thead th {\n",
       "        text-align: right;\n",
       "    }\n",
       "</style>\n",
       "<table border=\"1\" class=\"dataframe\">\n",
       "  <thead>\n",
       "    <tr style=\"text-align: right;\">\n",
       "      <th></th>\n",
       "      <th>College</th>\n",
       "      <th>City</th>\n",
       "      <th>Previous CTC</th>\n",
       "      <th>Previous job change</th>\n",
       "      <th>Graduation Marks</th>\n",
       "      <th>EXP (Month)</th>\n",
       "      <th>CTC</th>\n",
       "      <th>Role_Executive</th>\n",
       "      <th>Role_Manager</th>\n",
       "    </tr>\n",
       "  </thead>\n",
       "  <tbody>\n",
       "    <tr>\n",
       "      <th>0</th>\n",
       "      <td>2</td>\n",
       "      <td>0</td>\n",
       "      <td>55523.0</td>\n",
       "      <td>3</td>\n",
       "      <td>66</td>\n",
       "      <td>19</td>\n",
       "      <td>71406.58</td>\n",
       "      <td>0</td>\n",
       "      <td>1</td>\n",
       "    </tr>\n",
       "    <tr>\n",
       "      <th>1</th>\n",
       "      <td>2</td>\n",
       "      <td>0</td>\n",
       "      <td>57081.0</td>\n",
       "      <td>1</td>\n",
       "      <td>84</td>\n",
       "      <td>18</td>\n",
       "      <td>68005.87</td>\n",
       "      <td>1</td>\n",
       "      <td>0</td>\n",
       "    </tr>\n",
       "  </tbody>\n",
       "</table>\n",
       "</div>"
      ],
      "text/plain": [
       "   College  City  Previous CTC  Previous job change  Graduation Marks  \\\n",
       "0        2     0       55523.0                    3                66   \n",
       "1        2     0       57081.0                    1                84   \n",
       "\n",
       "   EXP (Month)       CTC  Role_Executive  Role_Manager  \n",
       "0           19  71406.58               0             1  \n",
       "1           18  68005.87               1             0  "
      ]
     },
     "execution_count": 15,
     "metadata": {},
     "output_type": "execute_result"
    }
   ],
   "source": [
    "Data.head(2)"
   ]
  },
  {
   "cell_type": "code",
   "execution_count": 31,
   "id": "42995370-e053-4b78-a1c2-0282088a6f69",
   "metadata": {},
   "outputs": [
    {
     "data": {
      "text/html": [
       "<style type=\"text/css\">\n",
       "#T_ce2f1_row0_col0, #T_ce2f1_row1_col1, #T_ce2f1_row2_col2, #T_ce2f1_row3_col3, #T_ce2f1_row4_col4, #T_ce2f1_row5_col5, #T_ce2f1_row6_col6, #T_ce2f1_row7_col7, #T_ce2f1_row8_col8 {\n",
       "  background-color: #023858;\n",
       "  color: #f1f1f1;\n",
       "}\n",
       "#T_ce2f1_row0_col1, #T_ce2f1_row0_col8, #T_ce2f1_row2_col1, #T_ce2f1_row2_col3, #T_ce2f1_row3_col8, #T_ce2f1_row4_col1, #T_ce2f1_row4_col7 {\n",
       "  background-color: #faf2f8;\n",
       "  color: #000000;\n",
       "}\n",
       "#T_ce2f1_row0_col2, #T_ce2f1_row1_col7 {\n",
       "  background-color: #f1ebf5;\n",
       "  color: #000000;\n",
       "}\n",
       "#T_ce2f1_row0_col3, #T_ce2f1_row1_col8, #T_ce2f1_row2_col4, #T_ce2f1_row3_col0, #T_ce2f1_row4_col5, #T_ce2f1_row5_col4, #T_ce2f1_row6_col7, #T_ce2f1_row7_col8, #T_ce2f1_row8_col7 {\n",
       "  background-color: #fff7fb;\n",
       "  color: #000000;\n",
       "}\n",
       "#T_ce2f1_row0_col4, #T_ce2f1_row1_col2, #T_ce2f1_row3_col2, #T_ce2f1_row4_col0 {\n",
       "  background-color: #f7f0f7;\n",
       "  color: #000000;\n",
       "}\n",
       "#T_ce2f1_row0_col5, #T_ce2f1_row0_col7, #T_ce2f1_row3_col6, #T_ce2f1_row5_col0 {\n",
       "  background-color: #f5eff6;\n",
       "  color: #000000;\n",
       "}\n",
       "#T_ce2f1_row0_col6, #T_ce2f1_row1_col5, #T_ce2f1_row1_col6 {\n",
       "  background-color: #fbf4f9;\n",
       "  color: #000000;\n",
       "}\n",
       "#T_ce2f1_row1_col0, #T_ce2f1_row5_col1 {\n",
       "  background-color: #faf3f9;\n",
       "  color: #000000;\n",
       "}\n",
       "#T_ce2f1_row1_col3 {\n",
       "  background-color: #f1ebf4;\n",
       "  color: #000000;\n",
       "}\n",
       "#T_ce2f1_row1_col4, #T_ce2f1_row5_col8 {\n",
       "  background-color: #fbf3f9;\n",
       "  color: #000000;\n",
       "}\n",
       "#T_ce2f1_row2_col0, #T_ce2f1_row3_col4, #T_ce2f1_row4_col3, #T_ce2f1_row4_col8 {\n",
       "  background-color: #f4eef6;\n",
       "  color: #000000;\n",
       "}\n",
       "#T_ce2f1_row2_col5 {\n",
       "  background-color: #e7e3f0;\n",
       "  color: #000000;\n",
       "}\n",
       "#T_ce2f1_row2_col6 {\n",
       "  background-color: #c5cce3;\n",
       "  color: #000000;\n",
       "}\n",
       "#T_ce2f1_row2_col7, #T_ce2f1_row4_col2 {\n",
       "  background-color: #fcf4fa;\n",
       "  color: #000000;\n",
       "}\n",
       "#T_ce2f1_row2_col8, #T_ce2f1_row4_col6 {\n",
       "  background-color: #f8f1f8;\n",
       "  color: #000000;\n",
       "}\n",
       "#T_ce2f1_row3_col1 {\n",
       "  background-color: #f0eaf4;\n",
       "  color: #000000;\n",
       "}\n",
       "#T_ce2f1_row3_col5, #T_ce2f1_row5_col3 {\n",
       "  background-color: #f4edf6;\n",
       "  color: #000000;\n",
       "}\n",
       "#T_ce2f1_row3_col7 {\n",
       "  background-color: #f5eef6;\n",
       "  color: #000000;\n",
       "}\n",
       "#T_ce2f1_row5_col2 {\n",
       "  background-color: #e3e0ee;\n",
       "  color: #000000;\n",
       "}\n",
       "#T_ce2f1_row5_col6 {\n",
       "  background-color: #b3c3de;\n",
       "  color: #000000;\n",
       "}\n",
       "#T_ce2f1_row5_col7 {\n",
       "  background-color: #f3edf5;\n",
       "  color: #000000;\n",
       "}\n",
       "#T_ce2f1_row6_col0 {\n",
       "  background-color: #a9bfdc;\n",
       "  color: #000000;\n",
       "}\n",
       "#T_ce2f1_row6_col1 {\n",
       "  background-color: #a8bedc;\n",
       "  color: #000000;\n",
       "}\n",
       "#T_ce2f1_row6_col2 {\n",
       "  background-color: #60a1ca;\n",
       "  color: #f1f1f1;\n",
       "}\n",
       "#T_ce2f1_row6_col3 {\n",
       "  background-color: #a1bbda;\n",
       "  color: #000000;\n",
       "}\n",
       "#T_ce2f1_row6_col4 {\n",
       "  background-color: #a4bcda;\n",
       "  color: #000000;\n",
       "}\n",
       "#T_ce2f1_row6_col5 {\n",
       "  background-color: #529bc7;\n",
       "  color: #f1f1f1;\n",
       "}\n",
       "#T_ce2f1_row6_col8 {\n",
       "  background-color: #056dab;\n",
       "  color: #f1f1f1;\n",
       "}\n",
       "#T_ce2f1_row7_col0, #T_ce2f1_row8_col2 {\n",
       "  background-color: #71a8ce;\n",
       "  color: #f1f1f1;\n",
       "}\n",
       "#T_ce2f1_row7_col1 {\n",
       "  background-color: #67a4cc;\n",
       "  color: #f1f1f1;\n",
       "}\n",
       "#T_ce2f1_row7_col2, #T_ce2f1_row8_col0 {\n",
       "  background-color: #76aad0;\n",
       "  color: #f1f1f1;\n",
       "}\n",
       "#T_ce2f1_row7_col3, #T_ce2f1_row8_col4 {\n",
       "  background-color: #6fa7ce;\n",
       "  color: #f1f1f1;\n",
       "}\n",
       "#T_ce2f1_row7_col4, #T_ce2f1_row8_col3 {\n",
       "  background-color: #78abd0;\n",
       "  color: #f1f1f1;\n",
       "}\n",
       "#T_ce2f1_row7_col5 {\n",
       "  background-color: #6da6cd;\n",
       "  color: #f1f1f1;\n",
       "}\n",
       "#T_ce2f1_row7_col6 {\n",
       "  background-color: #dedcec;\n",
       "  color: #000000;\n",
       "}\n",
       "#T_ce2f1_row8_col1 {\n",
       "  background-color: #7eadd1;\n",
       "  color: #f1f1f1;\n",
       "}\n",
       "#T_ce2f1_row8_col5 {\n",
       "  background-color: #79abd0;\n",
       "  color: #f1f1f1;\n",
       "}\n",
       "#T_ce2f1_row8_col6 {\n",
       "  background-color: #05659f;\n",
       "  color: #f1f1f1;\n",
       "}\n",
       "</style>\n",
       "<table id=\"T_ce2f1\">\n",
       "  <thead>\n",
       "    <tr>\n",
       "      <th class=\"blank level0\" >&nbsp;</th>\n",
       "      <th id=\"T_ce2f1_level0_col0\" class=\"col_heading level0 col0\" >College</th>\n",
       "      <th id=\"T_ce2f1_level0_col1\" class=\"col_heading level0 col1\" >City</th>\n",
       "      <th id=\"T_ce2f1_level0_col2\" class=\"col_heading level0 col2\" >Previous CTC</th>\n",
       "      <th id=\"T_ce2f1_level0_col3\" class=\"col_heading level0 col3\" >Previous job change</th>\n",
       "      <th id=\"T_ce2f1_level0_col4\" class=\"col_heading level0 col4\" >Graduation Marks</th>\n",
       "      <th id=\"T_ce2f1_level0_col5\" class=\"col_heading level0 col5\" >EXP (Month)</th>\n",
       "      <th id=\"T_ce2f1_level0_col6\" class=\"col_heading level0 col6\" >CTC</th>\n",
       "      <th id=\"T_ce2f1_level0_col7\" class=\"col_heading level0 col7\" >Role_Executive</th>\n",
       "      <th id=\"T_ce2f1_level0_col8\" class=\"col_heading level0 col8\" >Role_Manager</th>\n",
       "    </tr>\n",
       "  </thead>\n",
       "  <tbody>\n",
       "    <tr>\n",
       "      <th id=\"T_ce2f1_level0_row0\" class=\"row_heading level0 row0\" >College</th>\n",
       "      <td id=\"T_ce2f1_row0_col0\" class=\"data row0 col0\" >1.000</td>\n",
       "      <td id=\"T_ce2f1_row0_col1\" class=\"data row0 col1\" >-0.015</td>\n",
       "      <td id=\"T_ce2f1_row0_col2\" class=\"data row0 col2\" >0.042</td>\n",
       "      <td id=\"T_ce2f1_row0_col3\" class=\"data row0 col3\" >-0.055</td>\n",
       "      <td id=\"T_ce2f1_row0_col4\" class=\"data row0 col4\" >0.004</td>\n",
       "      <td id=\"T_ce2f1_row0_col5\" class=\"data row0 col5\" >0.012</td>\n",
       "      <td id=\"T_ce2f1_row0_col6\" class=\"data row0 col6\" >-0.030</td>\n",
       "      <td id=\"T_ce2f1_row0_col7\" class=\"data row0 col7\" >0.015</td>\n",
       "      <td id=\"T_ce2f1_row0_col8\" class=\"data row0 col8\" >-0.015</td>\n",
       "    </tr>\n",
       "    <tr>\n",
       "      <th id=\"T_ce2f1_level0_row1\" class=\"row_heading level0 row1\" >City</th>\n",
       "      <td id=\"T_ce2f1_row1_col0\" class=\"data row1 col0\" >-0.015</td>\n",
       "      <td id=\"T_ce2f1_row1_col1\" class=\"data row1 col1\" >1.000</td>\n",
       "      <td id=\"T_ce2f1_row1_col2\" class=\"data row1 col2\" >0.005</td>\n",
       "      <td id=\"T_ce2f1_row1_col3\" class=\"data row1 col3\" >0.052</td>\n",
       "      <td id=\"T_ce2f1_row1_col4\" class=\"data row1 col4\" >-0.019</td>\n",
       "      <td id=\"T_ce2f1_row1_col5\" class=\"data row1 col5\" >-0.024</td>\n",
       "      <td id=\"T_ce2f1_row1_col6\" class=\"data row1 col6\" >-0.020</td>\n",
       "      <td id=\"T_ce2f1_row1_col7\" class=\"data row1 col7\" >0.049</td>\n",
       "      <td id=\"T_ce2f1_row1_col8\" class=\"data row1 col8\" >-0.049</td>\n",
       "    </tr>\n",
       "    <tr>\n",
       "      <th id=\"T_ce2f1_level0_row2\" class=\"row_heading level0 row2\" >Previous CTC</th>\n",
       "      <td id=\"T_ce2f1_row2_col0\" class=\"data row2 col0\" >0.042</td>\n",
       "      <td id=\"T_ce2f1_row2_col1\" class=\"data row2 col1\" >0.005</td>\n",
       "      <td id=\"T_ce2f1_row2_col2\" class=\"data row2 col2\" >1.000</td>\n",
       "      <td id=\"T_ce2f1_row2_col3\" class=\"data row2 col3\" >0.006</td>\n",
       "      <td id=\"T_ce2f1_row2_col4\" class=\"data row2 col4\" >-0.033</td>\n",
       "      <td id=\"T_ce2f1_row2_col5\" class=\"data row2 col5\" >0.119</td>\n",
       "      <td id=\"T_ce2f1_row2_col6\" class=\"data row2 col6\" >0.258</td>\n",
       "      <td id=\"T_ce2f1_row2_col7\" class=\"data row2 col7\" >-0.012</td>\n",
       "      <td id=\"T_ce2f1_row2_col8\" class=\"data row2 col8\" >0.012</td>\n",
       "    </tr>\n",
       "    <tr>\n",
       "      <th id=\"T_ce2f1_level0_row3\" class=\"row_heading level0 row3\" >Previous job change</th>\n",
       "      <td id=\"T_ce2f1_row3_col0\" class=\"data row3 col0\" >-0.055</td>\n",
       "      <td id=\"T_ce2f1_row3_col1\" class=\"data row3 col1\" >0.052</td>\n",
       "      <td id=\"T_ce2f1_row3_col2\" class=\"data row3 col2\" >0.006</td>\n",
       "      <td id=\"T_ce2f1_row3_col3\" class=\"data row3 col3\" >1.000</td>\n",
       "      <td id=\"T_ce2f1_row3_col4\" class=\"data row3 col4\" >0.019</td>\n",
       "      <td id=\"T_ce2f1_row3_col5\" class=\"data row3 col5\" >0.023</td>\n",
       "      <td id=\"T_ce2f1_row3_col6\" class=\"data row3 col6\" >0.011</td>\n",
       "      <td id=\"T_ce2f1_row3_col7\" class=\"data row3 col7\" >0.017</td>\n",
       "      <td id=\"T_ce2f1_row3_col8\" class=\"data row3 col8\" >-0.017</td>\n",
       "    </tr>\n",
       "    <tr>\n",
       "      <th id=\"T_ce2f1_level0_row4\" class=\"row_heading level0 row4\" >Graduation Marks</th>\n",
       "      <td id=\"T_ce2f1_row4_col0\" class=\"data row4 col0\" >0.004</td>\n",
       "      <td id=\"T_ce2f1_row4_col1\" class=\"data row4 col1\" >-0.019</td>\n",
       "      <td id=\"T_ce2f1_row4_col2\" class=\"data row4 col2\" >-0.033</td>\n",
       "      <td id=\"T_ce2f1_row4_col3\" class=\"data row4 col3\" >0.019</td>\n",
       "      <td id=\"T_ce2f1_row4_col4\" class=\"data row4 col4\" >1.000</td>\n",
       "      <td id=\"T_ce2f1_row4_col5\" class=\"data row4 col5\" >-0.057</td>\n",
       "      <td id=\"T_ce2f1_row4_col6\" class=\"data row4 col6\" >-0.005</td>\n",
       "      <td id=\"T_ce2f1_row4_col7\" class=\"data row4 col7\" >-0.018</td>\n",
       "      <td id=\"T_ce2f1_row4_col8\" class=\"data row4 col8\" >0.018</td>\n",
       "    </tr>\n",
       "    <tr>\n",
       "      <th id=\"T_ce2f1_level0_row5\" class=\"row_heading level0 row5\" >EXP (Month)</th>\n",
       "      <td id=\"T_ce2f1_row5_col0\" class=\"data row5 col0\" >0.012</td>\n",
       "      <td id=\"T_ce2f1_row5_col1\" class=\"data row5 col1\" >-0.024</td>\n",
       "      <td id=\"T_ce2f1_row5_col2\" class=\"data row5 col2\" >0.119</td>\n",
       "      <td id=\"T_ce2f1_row5_col3\" class=\"data row5 col3\" >0.023</td>\n",
       "      <td id=\"T_ce2f1_row5_col4\" class=\"data row5 col4\" >-0.057</td>\n",
       "      <td id=\"T_ce2f1_row5_col5\" class=\"data row5 col5\" >1.000</td>\n",
       "      <td id=\"T_ce2f1_row5_col6\" class=\"data row5 col6\" >0.301</td>\n",
       "      <td id=\"T_ce2f1_row5_col7\" class=\"data row5 col7\" >0.027</td>\n",
       "      <td id=\"T_ce2f1_row5_col8\" class=\"data row5 col8\" >-0.027</td>\n",
       "    </tr>\n",
       "    <tr>\n",
       "      <th id=\"T_ce2f1_level0_row6\" class=\"row_heading level0 row6\" >CTC</th>\n",
       "      <td id=\"T_ce2f1_row6_col0\" class=\"data row6 col0\" >-0.030</td>\n",
       "      <td id=\"T_ce2f1_row6_col1\" class=\"data row6 col1\" >-0.020</td>\n",
       "      <td id=\"T_ce2f1_row6_col2\" class=\"data row6 col2\" >0.258</td>\n",
       "      <td id=\"T_ce2f1_row6_col3\" class=\"data row6 col3\" >0.011</td>\n",
       "      <td id=\"T_ce2f1_row6_col4\" class=\"data row6 col4\" >-0.005</td>\n",
       "      <td id=\"T_ce2f1_row6_col5\" class=\"data row6 col5\" >0.301</td>\n",
       "      <td id=\"T_ce2f1_row6_col6\" class=\"data row6 col6\" >1.000</td>\n",
       "      <td id=\"T_ce2f1_row6_col7\" class=\"data row6 col7\" >-0.621</td>\n",
       "      <td id=\"T_ce2f1_row6_col8\" class=\"data row6 col8\" >0.621</td>\n",
       "    </tr>\n",
       "    <tr>\n",
       "      <th id=\"T_ce2f1_level0_row7\" class=\"row_heading level0 row7\" >Role_Executive</th>\n",
       "      <td id=\"T_ce2f1_row7_col0\" class=\"data row7 col0\" >0.015</td>\n",
       "      <td id=\"T_ce2f1_row7_col1\" class=\"data row7 col1\" >0.049</td>\n",
       "      <td id=\"T_ce2f1_row7_col2\" class=\"data row7 col2\" >-0.012</td>\n",
       "      <td id=\"T_ce2f1_row7_col3\" class=\"data row7 col3\" >0.017</td>\n",
       "      <td id=\"T_ce2f1_row7_col4\" class=\"data row7 col4\" >-0.018</td>\n",
       "      <td id=\"T_ce2f1_row7_col5\" class=\"data row7 col5\" >0.027</td>\n",
       "      <td id=\"T_ce2f1_row7_col6\" class=\"data row7 col6\" >-0.621</td>\n",
       "      <td id=\"T_ce2f1_row7_col7\" class=\"data row7 col7\" >1.000</td>\n",
       "      <td id=\"T_ce2f1_row7_col8\" class=\"data row7 col8\" >-1.000</td>\n",
       "    </tr>\n",
       "    <tr>\n",
       "      <th id=\"T_ce2f1_level0_row8\" class=\"row_heading level0 row8\" >Role_Manager</th>\n",
       "      <td id=\"T_ce2f1_row8_col0\" class=\"data row8 col0\" >-0.015</td>\n",
       "      <td id=\"T_ce2f1_row8_col1\" class=\"data row8 col1\" >-0.049</td>\n",
       "      <td id=\"T_ce2f1_row8_col2\" class=\"data row8 col2\" >0.012</td>\n",
       "      <td id=\"T_ce2f1_row8_col3\" class=\"data row8 col3\" >-0.017</td>\n",
       "      <td id=\"T_ce2f1_row8_col4\" class=\"data row8 col4\" >0.018</td>\n",
       "      <td id=\"T_ce2f1_row8_col5\" class=\"data row8 col5\" >-0.027</td>\n",
       "      <td id=\"T_ce2f1_row8_col6\" class=\"data row8 col6\" >0.621</td>\n",
       "      <td id=\"T_ce2f1_row8_col7\" class=\"data row8 col7\" >-1.000</td>\n",
       "      <td id=\"T_ce2f1_row8_col8\" class=\"data row8 col8\" >1.000</td>\n",
       "    </tr>\n",
       "  </tbody>\n",
       "</table>\n"
      ],
      "text/plain": [
       "<pandas.io.formats.style.Styler at 0x1cc0dc75fd0>"
      ]
     },
     "execution_count": 31,
     "metadata": {},
     "output_type": "execute_result"
    }
   ],
   "source": [
    "Data.corr().style.format(precision=3).background_gradient(axis=1)                                                    #Adjust your precision for accuracy"
   ]
  },
  {
   "cell_type": "markdown",
   "id": "7dfe09c0-1eb9-45d4-a94f-b5ca64fd1633",
   "metadata": {},
   "source": [
    "## Key Takeaways :\n",
    "* Experience and CTC : More experience generally leads to higher previous and current salaries.\n",
    "* Role and CTC : Managers tend to have higher salaries compared to executives.\n",
    "* Education and Location : College and city have minimal impact on salary and job roles."
   ]
  },
  {
   "cell_type": "markdown",
   "id": "f2fa6258-7d42-4e1b-9bd1-2e8b38a09608",
   "metadata": {},
   "source": [
    "## 5.Data Preprocessing\n",
    "### 5.1 Defining Features and Target Variables"
   ]
  },
  {
   "cell_type": "code",
   "execution_count": 16,
   "id": "9a0ecea1-473f-4b77-954c-5241e9add5ba",
   "metadata": {},
   "outputs": [
    {
     "name": "stdout",
     "output_type": "stream",
     "text": [
      "Original set ---> X: (1589, 8) y: (1589,)\n"
     ]
    }
   ],
   "source": [
    "X = Data.loc[:, Data.columns!='CTC']\n",
    "y = Data['CTC']\n",
    "print(\"Original set --->\",'X:', X.shape,'y:', y.shape)                                                              #X=Independant,y=Dependant Variables"
   ]
  },
  {
   "cell_type": "markdown",
   "id": "04bd9e16-62d5-4dee-86db-b98575153193",
   "metadata": {},
   "source": [
    "### 5.2 Train Test Splitting "
   ]
  },
  {
   "cell_type": "code",
   "execution_count": 17,
   "id": "7ceec741-c657-4eaf-98a5-eed9bcfbd87e",
   "metadata": {},
   "outputs": [
    {
     "name": "stdout",
     "output_type": "stream",
     "text": [
      "Shape of training Feature: \u001b[31m(1271, 8)\u001b[0m\n",
      "Shape of testing Feature: \u001b[31m(318, 8)\u001b[0m\n",
      "Shape of training Target: \u001b[31m(1271,)\u001b[0m\n",
      "Shape of testing Target: \u001b[31m(318,)\u001b[0m\n"
     ]
    }
   ],
   "source": [
    "# Split into train and test sets\n",
    "X_train, X_test, y_train, y_test = train_test_split(X, y, test_size=0.20, random_state=100)\n",
    "print('Shape of training Feature:',(colored(X_train.shape, 'red')))\n",
    "print('Shape of testing Feature:',(colored(X_test.shape, 'red')))\n",
    "print('Shape of training Target:',(colored(y_train.shape, 'red')))\n",
    "print('Shape of testing Target:', (colored(y_test.shape, 'red')))"
   ]
  },
  {
   "cell_type": "markdown",
   "id": "9b98e0b7-5461-43cd-9dff-47baa56d1849",
   "metadata": {},
   "source": [
    "### 5.3 Normalization\n",
    "StandardScaler/MinMaxScaler/RobustScaler "
   ]
  },
  {
   "cell_type": "code",
   "execution_count": 39,
   "id": "87b920bb-ef75-4d10-b85d-b61c4c7bf316",
   "metadata": {},
   "outputs": [],
   "source": [
    "# Preprocess data\n",
    "scaler = StandardScaler()#MinMaxScaler()#RobustScaler()                                                                                #ALter the Scaler\n",
    "X_train_scaled = scaler.fit_transform(X_train)\n",
    "X_test_scaled = scaler.transform(X_test)"
   ]
  },
  {
   "cell_type": "markdown",
   "id": "f83c6468-e49c-4f08-9cbc-fd0cba159a1e",
   "metadata": {},
   "source": [
    "-- *******Scaling using scaler is not much used in this data******* "
   ]
  },
  {
   "cell_type": "markdown",
   "id": "2a18b3b4-1c08-4668-941a-e8919b64c1fe",
   "metadata": {},
   "source": [
    "## 6.Model Buliding \n",
    "### 6.1 Model Selection"
   ]
  },
  {
   "cell_type": "code",
   "execution_count": 18,
   "id": "9f290cce-ed19-4115-ae37-1212d8624167",
   "metadata": {},
   "outputs": [],
   "source": [
    "# Preferred ML Models\n",
    "models = {\n",
    "    \"Linear Regression\": LinearRegression(),\n",
    "    \"Lasso\": Lasso(),\n",
    "    \"Ridge\": Ridge(),\n",
    "    \"Decision Tree\": DecisionTreeRegressor(),\n",
    "    \"Random Forest Regressor\": RandomForestRegressor(),\n",
    "    \"XGBRegressor\": XGBRegressor(),\n",
    "    \"GradientBoostingRegressor\": GradientBoostingRegressor(),\n",
    "    \"AdaBoost Regressor\": AdaBoostRegressor()}"
   ]
  },
  {
   "cell_type": "code",
   "execution_count": 19,
   "id": "f5550552-8efd-4d0c-ae35-b9496f284e78",
   "metadata": {},
   "outputs": [],
   "source": [
    "# Function to evaluate model performance\n",
    "def evaluate_model(true, predicted):\n",
    "    mse = mean_squared_error(true, predicted)\n",
    "    rmse = np.sqrt(mse)\n",
    "    r2_square = r2_score(true, predicted)\n",
    "    return rmse, r2_square\n",
    "\n",
    "# Initialize an empty list to store results\n",
    "results = []\n",
    "\n",
    "# Loop through each model\n",
    "for model_name, model in models.items():\n",
    "    # Fit the model on training data\n",
    "    model.fit(X_train, y_train)\n",
    "\n",
    "    # Make predictions\n",
    "    y_train_pred = model.predict(X_train)\n",
    "    y_test_pred = model.predict(X_test)\n",
    "\n",
    "    # Evaluate Train and Test dataset\n",
    "    model_train_rmse, model_train_r2 = evaluate_model(y_train, y_train_pred)\n",
    "    model_test_rmse, model_test_r2 = evaluate_model(y_test, y_test_pred)\n",
    "\n",
    "    # Append results to list\n",
    "    results.append({\n",
    "        'Model': model_name,\n",
    "        'Train RMSE': model_train_rmse,\n",
    "        'Train R2': model_train_r2,\n",
    "        'Test RMSE': model_test_rmse,\n",
    "        'Test R2': model_test_r2})"
   ]
  },
  {
   "cell_type": "markdown",
   "id": "115f8b76-8d7e-4566-95e9-8a029a8bac4f",
   "metadata": {},
   "source": [
    "### 6.2 Model Evaluation"
   ]
  },
  {
   "cell_type": "code",
   "execution_count": 50,
   "id": "39b395c1-0cc1-413d-a3f5-9a4ca60aaff7",
   "metadata": {},
   "outputs": [
    {
     "data": {
      "text/html": [
       "<style type=\"text/css\">\n",
       "#T_36f59_row0_col1, #T_36f59_row1_col1, #T_36f59_row2_col1, #T_36f59_row3_col3, #T_36f59_row4_col3, #T_36f59_row5_col3, #T_36f59_row6_col3, #T_36f59_row7_col1 {\n",
       "  background-color: #023858;\n",
       "  color: #f1f1f1;\n",
       "}\n",
       "#T_36f59_row0_col2, #T_36f59_row0_col4, #T_36f59_row1_col2, #T_36f59_row1_col4, #T_36f59_row2_col2, #T_36f59_row2_col4, #T_36f59_row3_col1, #T_36f59_row3_col2, #T_36f59_row3_col4, #T_36f59_row4_col2, #T_36f59_row4_col4, #T_36f59_row5_col2, #T_36f59_row5_col4, #T_36f59_row6_col2, #T_36f59_row6_col4, #T_36f59_row7_col2, #T_36f59_row7_col4 {\n",
       "  background-color: #fff7fb;\n",
       "  color: #000000;\n",
       "}\n",
       "#T_36f59_row0_col3, #T_36f59_row1_col3, #T_36f59_row2_col3 {\n",
       "  background-color: #034d79;\n",
       "  color: #f1f1f1;\n",
       "}\n",
       "#T_36f59_row4_col1 {\n",
       "  background-color: #96b6d7;\n",
       "  color: #000000;\n",
       "}\n",
       "#T_36f59_row5_col1 {\n",
       "  background-color: #e0dded;\n",
       "  color: #000000;\n",
       "}\n",
       "#T_36f59_row6_col1 {\n",
       "  background-color: #023f64;\n",
       "  color: #f1f1f1;\n",
       "}\n",
       "#T_36f59_row7_col3 {\n",
       "  background-color: #03446a;\n",
       "  color: #f1f1f1;\n",
       "}\n",
       "</style>\n",
       "<table id=\"T_36f59\">\n",
       "  <thead>\n",
       "    <tr>\n",
       "      <th class=\"blank level0\" >&nbsp;</th>\n",
       "      <th id=\"T_36f59_level0_col0\" class=\"col_heading level0 col0\" >Model</th>\n",
       "      <th id=\"T_36f59_level0_col1\" class=\"col_heading level0 col1\" >Train RMSE</th>\n",
       "      <th id=\"T_36f59_level0_col2\" class=\"col_heading level0 col2\" >Train R2</th>\n",
       "      <th id=\"T_36f59_level0_col3\" class=\"col_heading level0 col3\" >Test RMSE</th>\n",
       "      <th id=\"T_36f59_level0_col4\" class=\"col_heading level0 col4\" >Test R2</th>\n",
       "    </tr>\n",
       "  </thead>\n",
       "  <tbody>\n",
       "    <tr>\n",
       "      <th id=\"T_36f59_level0_row0\" class=\"row_heading level0 row0\" >0</th>\n",
       "      <td id=\"T_36f59_row0_col0\" class=\"data row0 col0\" >Linear Regression</td>\n",
       "      <td id=\"T_36f59_row0_col1\" class=\"data row0 col1\" >8725.774</td>\n",
       "      <td id=\"T_36f59_row0_col2\" class=\"data row0 col2\" >0.530</td>\n",
       "      <td id=\"T_36f59_row0_col3\" class=\"data row0 col3\" >8028.400</td>\n",
       "      <td id=\"T_36f59_row0_col4\" class=\"data row0 col4\" >0.553</td>\n",
       "    </tr>\n",
       "    <tr>\n",
       "      <th id=\"T_36f59_level0_row1\" class=\"row_heading level0 row1\" >1</th>\n",
       "      <td id=\"T_36f59_row1_col0\" class=\"data row1 col0\" >Lasso</td>\n",
       "      <td id=\"T_36f59_row1_col1\" class=\"data row1 col1\" >8725.775</td>\n",
       "      <td id=\"T_36f59_row1_col2\" class=\"data row1 col2\" >0.530</td>\n",
       "      <td id=\"T_36f59_row1_col3\" class=\"data row1 col3\" >8028.116</td>\n",
       "      <td id=\"T_36f59_row1_col4\" class=\"data row1 col4\" >0.553</td>\n",
       "    </tr>\n",
       "    <tr>\n",
       "      <th id=\"T_36f59_level0_row2\" class=\"row_heading level0 row2\" >2</th>\n",
       "      <td id=\"T_36f59_row2_col0\" class=\"data row2 col0\" >Ridge</td>\n",
       "      <td id=\"T_36f59_row2_col1\" class=\"data row2 col1\" >8725.795</td>\n",
       "      <td id=\"T_36f59_row2_col2\" class=\"data row2 col2\" >0.530</td>\n",
       "      <td id=\"T_36f59_row2_col3\" class=\"data row2 col3\" >8027.190</td>\n",
       "      <td id=\"T_36f59_row2_col4\" class=\"data row2 col4\" >0.553</td>\n",
       "    </tr>\n",
       "    <tr>\n",
       "      <th id=\"T_36f59_level0_row3\" class=\"row_heading level0 row3\" >3</th>\n",
       "      <td id=\"T_36f59_row3_col0\" class=\"data row3 col0\" >Decision Tree</td>\n",
       "      <td id=\"T_36f59_row3_col1\" class=\"data row3 col1\" >0.000</td>\n",
       "      <td id=\"T_36f59_row3_col2\" class=\"data row3 col2\" >1.000</td>\n",
       "      <td id=\"T_36f59_row3_col3\" class=\"data row3 col3\" >9935.735</td>\n",
       "      <td id=\"T_36f59_row3_col4\" class=\"data row3 col4\" >0.315</td>\n",
       "    </tr>\n",
       "    <tr>\n",
       "      <th id=\"T_36f59_level0_row4\" class=\"row_heading level0 row4\" >4</th>\n",
       "      <td id=\"T_36f59_row4_col0\" class=\"data row4 col0\" >Random Forest Regressor</td>\n",
       "      <td id=\"T_36f59_row4_col1\" class=\"data row4 col1\" >2878.441</td>\n",
       "      <td id=\"T_36f59_row4_col2\" class=\"data row4 col2\" >0.949</td>\n",
       "      <td id=\"T_36f59_row4_col3\" class=\"data row4 col3\" >6908.812</td>\n",
       "      <td id=\"T_36f59_row4_col4\" class=\"data row4 col4\" >0.669</td>\n",
       "    </tr>\n",
       "    <tr>\n",
       "      <th id=\"T_36f59_level0_row5\" class=\"row_heading level0 row5\" >5</th>\n",
       "      <td id=\"T_36f59_row5_col0\" class=\"data row5 col0\" >XGBRegressor</td>\n",
       "      <td id=\"T_36f59_row5_col1\" class=\"data row5 col1\" >1353.390</td>\n",
       "      <td id=\"T_36f59_row5_col2\" class=\"data row5 col2\" >0.989</td>\n",
       "      <td id=\"T_36f59_row5_col3\" class=\"data row5 col3\" >7488.807</td>\n",
       "      <td id=\"T_36f59_row5_col4\" class=\"data row5 col4\" >0.611</td>\n",
       "    </tr>\n",
       "    <tr>\n",
       "      <th id=\"T_36f59_level0_row6\" class=\"row_heading level0 row6\" >6</th>\n",
       "      <td id=\"T_36f59_row6_col0\" class=\"data row6 col0\" >GradientBoostingRegressor</td>\n",
       "      <td id=\"T_36f59_row6_col1\" class=\"data row6 col1\" >6802.777</td>\n",
       "      <td id=\"T_36f59_row6_col2\" class=\"data row6 col2\" >0.714</td>\n",
       "      <td id=\"T_36f59_row6_col3\" class=\"data row6 col3\" >7014.175</td>\n",
       "      <td id=\"T_36f59_row6_col4\" class=\"data row6 col4\" >0.658</td>\n",
       "    </tr>\n",
       "    <tr>\n",
       "      <th id=\"T_36f59_level0_row7\" class=\"row_heading level0 row7\" >7</th>\n",
       "      <td id=\"T_36f59_row7_col0\" class=\"data row7 col0\" >AdaBoost Regressor</td>\n",
       "      <td id=\"T_36f59_row7_col1\" class=\"data row7 col1\" >8041.398</td>\n",
       "      <td id=\"T_36f59_row7_col2\" class=\"data row7 col2\" >0.601</td>\n",
       "      <td id=\"T_36f59_row7_col3\" class=\"data row7 col3\" >7673.851</td>\n",
       "      <td id=\"T_36f59_row7_col4\" class=\"data row7 col4\" >0.591</td>\n",
       "    </tr>\n",
       "  </tbody>\n",
       "</table>\n"
      ],
      "text/plain": [
       "<pandas.io.formats.style.Styler at 0x1cc105adf50>"
      ]
     },
     "execution_count": 50,
     "metadata": {},
     "output_type": "execute_result"
    }
   ],
   "source": [
    "# Convert results to a DataFrame for better visualization\n",
    "results_df = pd.DataFrame(results)\n",
    "results_df.head(10).style.format(precision=3).background_gradient(axis=1)"
   ]
  },
  {
   "cell_type": "markdown",
   "id": "53670ce6-833f-4565-865b-59cc77dbeba0",
   "metadata": {},
   "source": [
    "Inference : Lesser the RMSE, better the model! Also, provided the model should have close proximity with the training & testing scores."
   ]
  },
  {
   "cell_type": "code",
   "execution_count": 74,
   "id": "a35577fd-466d-4569-bb39-98bdf17e4df3",
   "metadata": {},
   "outputs": [
    {
     "data": {
      "image/png": "[encoded data removed]",
      "text/plain": [
       "<Figure size 1200x600 with 2 Axes>"
      ]
     },
     "metadata": {},
     "output_type": "display_data"
    }
   ],
   "source": [
    "plt.figure(figsize=(12, 6))\n",
    "\n",
    "plt.subplot(2, 2, 1)\n",
    "sns.barplot(x='Model', y='Train R2', data=results_df, palette=\"Set1\")\n",
    "plt.xticks(rotation=90)\n",
    "plt.subplot(2, 2, 2)\n",
    "sns.barplot(x='Model', y='Test R2', data=results_df, palette=\"Set1\")\n",
    "plt.xticks(rotation=90)\n",
    "\n",
    "plt.tight_layout\n",
    "plt.show()"
   ]
  },
  {
   "cell_type": "markdown",
   "id": "0ebb21ce-e463-4556-8953-18f8d8420c3c",
   "metadata": {},
   "source": [
    "### 6.3 Model Analysis"
   ]
  },
  {
   "cell_type": "markdown",
   "id": "814eaa47-7bc8-4658-9735-1c7988835886",
   "metadata": {},
   "source": [
    "| Model name                   | Analysis |\n",
    "|-----------------------------|-------------------------------------------------------------------------------------------------|\n",
    "| **Linear Regression**       | The performance on train and test data is quite similar. This model is likely underfitting as the R² values are moderate, indicating it might be too simple. |\n",
    "| **Lasso**                   | Similar to linear regression, with no significant discrepancy between train and test performance. Likely underfitting. |\n",
    "| **Ridge**                   | Again, very similar train and test performance, indicating underfitting. |\n",
    "| **Decision Tree**           | Perfect fit on training data but poor performance on test data. This model is clearly overfitting. |\n",
    "| **Random Forest Regressor** | Good performance on both train and test data with some discrepancy. This model is neither clearly underfitting nor overfitting but shows slight overfitting. |\n",
    "| **XGBRegressor**            | Excellent performance on training data but relatively worse on test data. Indicates overfitting.|\n",
    "| **GradientBoostingRegressor**| Moderate train and test performance with slight discrepancy. Neither clearly underfitting nor overfitting, but a good balance.|\n",
    "| **AdaBoost Regressor**      | Similar train and test performance. Likely underfitting.|"
   ]
  },
  {
   "cell_type": "markdown",
   "id": "fb72defb-21c9-48fb-8984-5bd3911ebfb2",
   "metadata": {},
   "source": [
    "#### Summary :\n",
    "*  ***Underfitting Models*** : Linear Regression, Lasso, Ridge, AdaBoost Regressor.\n",
    "*  ***Overfitting Models*** : Decision Tree, XGBRegressor.\n",
    "*  ***Well-Balanced Model***  : Random Forest Regressor (slight overfitting), GradientBoostingRegressor."
   ]
  },
  {
   "cell_type": "markdown",
   "id": "4aa95ffa-162b-4c93-b967-3fca4383cc6d",
   "metadata": {},
   "source": [
    "### 6.4 Model Hyperparameter Tuning\n",
    "GradientBoosting Regressor"
   ]
  },
  {
   "cell_type": "markdown",
   "id": "1c86afcc-e017-45be-a491-38eb6d4a5767",
   "metadata": {},
   "source": [
    "###### ''While Running down this code, make sure it takes a lot time to evalute, So I printed values of best_parameters''"
   ]
  },
  {
   "cell_type": "code",
   "execution_count": 81,
   "id": "4210c525-ddd2-4e71-827b-81c81a861b6e",
   "metadata": {},
   "outputs": [
    {
     "name": "stdout",
     "output_type": "stream",
     "text": [
      "Fitting 5 folds for each of 2187 candidates, totalling 10935 fits\n",
      "Best parameters: {'learning_rate': 0.01, 'max_depth': 5, 'max_features': 'auto', 'min_samples_leaf': 2, 'min_samples_split': 2, 'n_estimators': 300, 'subsample': 0.8}\n",
      "Train RMSE: 6267.437616296419, Train R^2: 0.7573848189662217\n",
      "Test RMSE: 6983.944229211659, Test R^2: 0.6613748290736379\n"
     ]
    }
   ],
   "source": [
    "# Define the parameter grid for Gradient Boosting Regressor\n",
    "param_grid = {\n",
    "    'n_estimators': [100, 200, 300],\n",
    "    'learning_rate': [0.01, 0.1, 0.2],\n",
    "    'max_depth': [3, 4, 5],\n",
    "    'min_samples_split': [2, 5, 10],\n",
    "    'min_samples_leaf': [1, 2, 4],\n",
    "    'subsample': [0.8, 0.9, 1.0],\n",
    "    'max_features': ['auto', 'sqrt', 'log2']\n",
    "}\n",
    "\n",
    "# Initialize the Gradient Boosting Regressor\n",
    "gbr = GradientBoostingRegressor()\n",
    "\n",
    "# Set up GridSearchCV\n",
    "grid_search = GridSearchCV(estimator=gbr, param_grid=param_grid, \n",
    "                           scoring='neg_mean_squared_error', cv=5, n_jobs=-1, verbose=2)\n",
    "\n",
    "# Fit GridSearchCV\n",
    "grid_search.fit(X_train, y_train)\n",
    "\n",
    "# Get the best estimator\n",
    "best_gbr = grid_search.best_estimator_\n",
    "print(f\"Best parameters: {grid_search.best_params_}\")\n",
    "\n",
    "# Evaluate the best estimator\n",
    "y_train_pred = best_gbr.predict(X_train)\n",
    "y_test_pred = best_gbr.predict(X_test)\n",
    "\n",
    "model_train_rmse, model_train_r2 = evaluate_model(y_train, y_train_pred)\n",
    "model_test_rmse, model_test_r2 = evaluate_model(y_test, y_test_pred)\n",
    "\n",
    "print(f'Train RMSE: {model_train_rmse}, Train R^2: {model_train_r2}')\n",
    "print(f'Test RMSE: {model_test_rmse}, Test R^2: {model_test_r2}')"
   ]
  },
  {
   "cell_type": "markdown",
   "id": "f89c36e5-f463-41dd-91de-cd5f1d95182a",
   "metadata": {},
   "source": [
    "## 7.Feature Importance"
   ]
  },
  {
   "cell_type": "code",
   "execution_count": 80,
   "id": "9d05aba9-00b4-4cd7-9a1a-494121d8182d",
   "metadata": {},
   "outputs": [],
   "source": [
    "#Define function for (grb)Model preferred Features\n",
    "def plot_importance(model, features, num=6, save=False, title='Feature Importances'):                                            #Alter the feature nos \n",
    "    if hasattr(model, 'feature_importances_'):\n",
    "        feature_imp = pd.DataFrame({\"Value\": model.feature_importances_, \"Feature\": features.columns})\n",
    "        plt.figure(figsize=(10, 4))\n",
    "        sns.set(font_scale=1)\n",
    "        sns.barplot(x=\"Value\", y=\"Feature\", data=feature_imp.sort_values(by=\"Value\", ascending=False).head(num),palette=\"Set1\")\n",
    "        plt.title(title)\n",
    "        plt.tight_layout()\n",
    "        plt.show()\n",
    "    else:\n",
    "        raise AttributeError(\"The model does not have the attribute 'feature_importances_'\")"
   ]
  },
  {
   "cell_type": "markdown",
   "id": "43824717-65f3-4e48-b76a-307391794bd5",
   "metadata": {},
   "source": [
    "Plotting Feature Importance"
   ]
  },
  {
   "cell_type": "code",
   "execution_count": 78,
   "id": "447fa60a-2d2d-4f0d-9c46-9c053bf95fa4",
   "metadata": {},
   "outputs": [
    {
     "data": {
      "image/png": "[encoded data removed]",
      "text/plain": [
       "<Figure size 1000x400 with 1 Axes>"
      ]
     },
     "metadata": {},
     "output_type": "display_data"
    },
    {
     "data": {
      "image/png": "[encoded data removed]",
      "text/plain": [
       "<Figure size 1000x400 with 1 Axes>"
      ]
     },
     "metadata": {},
     "output_type": "display_data"
    }
   ],
   "source": [
    "# Train model with default parameters\n",
    "default_model = GradientBoostingRegressor()\n",
    "default_model.fit(X_train, y_train)\n",
    "\n",
    "# Train model with hyperparameter tuning\n",
    "tuned_model = GradientBoostingRegressor(\n",
    "    learning_rate=0.01,\n",
    "    max_depth=5,\n",
    "    max_features='auto',\n",
    "    min_samples_leaf=1,\n",
    "    min_samples_split=2,\n",
    "    n_estimators=300,\n",
    "    subsample=0.8\n",
    ")\n",
    "tuned_model.fit(X_train, y_train)\n",
    "\n",
    "# Plot feature importances for the default model\n",
    "plot_importance(default_model, X_train, title='Feature Importances (Default Parameters)')\n",
    "\n",
    "# Plot feature importances for the hyperparameter tuned model\n",
    "plot_importance(tuned_model, X_train, title='Feature Importances (Tuned Parameters)')"
   ]
  },
  {
   "cell_type": "markdown",
   "id": "af3b00b4-350d-472f-9753-02f27919164d",
   "metadata": {},
   "source": [
    "## 8. Final Analysis"
   ]
  },
  {
   "cell_type": "markdown",
   "id": "a906ba30-0171-48c7-9a5f-7634a17ac142",
   "metadata": {},
   "source": [
    "### 8.1 Predictions "
   ]
  },
  {
   "cell_type": "markdown",
   "id": "d25fd275-6988-4c68-b70e-5dfe2d8aa2f2",
   "metadata": {},
   "source": [
    "Getting Values by User"
   ]
  },
  {
   "cell_type": "code",
   "execution_count": 25,
   "id": "65ab9d6b-bd34-483c-a98b-c92efad61823",
   "metadata": {},
   "outputs": [
    {
     "name": "stdin",
     "output_type": "stream",
     "text": [
      "Enter College (1 for Tier1, 2 for Tier2, 3 for Tier3):  1\n",
      "Enter City (1 for Metro_city, 2 for Non-metro city):  1\n",
      "Enter Previous CTC:  50000\n",
      "Enter Previous Job-switch count:  3\n",
      "Enter Graduation Marks:  66\n",
      "Enter Experience(in Month):  18\n",
      "Enter Role for Executive(1 for Yes,0 for No):  1\n",
      "Enter Role for Manager(1 for Yes,0 for No):  0\n"
     ]
    },
    {
     "name": "stdout",
     "output_type": "stream",
     "text": [
      "College,City,Previous CTC,Previous Job-switch count,Graduation Marks,EXP(Month),Role Executive,Role Manager: [[1, 1, 50000.0, 3, 66, 18, 1, 0]]\n",
      "Predicted salary: 66993.6269640494\n"
     ]
    }
   ],
   "source": [
    "#Predicting Salary using GradientBoostingRegressor Model\n",
    "def get_user_input_and_predict(model):\n",
    "    try:\n",
    "        # Get inputs from the user\n",
    "        feature_1 = int(input(\"Enter College (1 for Tier1, 2 for Tier2, 3 for Tier3): \"))\n",
    "        feature_2 = int(input(\"Enter City (1 for Metro_city, 2 for Non-metro city): \"))\n",
    "        feature_3 = float(input(\"Enter Previous CTC: \"))\n",
    "        feature_4 = int(input(\"Enter Previous Job-switch count: \"))\n",
    "        feature_5 = int(input(\"Enter Graduation Marks: \"))\n",
    "        feature_6 = int(input(\"Enter Experience(in Month): \"))\n",
    "        feature_7 = int(input(\"Enter Role for Executive(1 for Yes,0 for No): \"))\n",
    "        feature_8 = int(input(\"Enter Role for Manager(1 for Yes,0 for No): \"))\n",
    "        \n",
    "        # Combine inputs into a list\n",
    "        new_employee = [[feature_1, feature_2, feature_3, feature_4, feature_5, feature_6, feature_7,feature_8]]\n",
    "        \n",
    "        # Make prediction\n",
    "        predicted_salary = model.predict(new_employee)\n",
    "        \n",
    "        # Print the prediction\n",
    "        print((\"College,City,Previous CTC,Previous Job-switch count,Graduation Marks,EXP(Month),Role Executive,Role Manager:\"),\n",
    "              new_employee)\n",
    "        print('Predicted salary:', predicted_salary[0])\n",
    "    except ValueError:\n",
    "        print(\"Invalid input. Please enter the correct type of values for each feature.\")\n",
    "\n",
    "#Model Assuming for Predictions\n",
    "model =model = GradientBoostingRegressor(learning_rate=0.01,max_depth=5,max_features='auto',\n",
    "                                  min_samples_leaf=2,min_samples_split=2,n_estimators=300,subsample=0.8)\n",
    "model.fit(X_train, y_train)\n",
    "get_user_input_and_predict(model)"
   ]
  },
  {
   "cell_type": "markdown",
   "id": "4a378ec8-9292-443c-96a5-8815e91df3a4",
   "metadata": {},
   "source": [
    "# Conclusion :"
   ]
  },
  {
   "cell_type": "markdown",
   "id": "06dc98c6-d0ef-478c-a6d5-c73fe8dfff8e",
   "metadata": {},
   "source": [
    "##### Here are some of the key outcomes of the project:\n",
    "* The Dataset was quiet small with just 1589 samples & salary with unadjusted band range.\n",
    "* Visualising the distribution of data & their relationships, helped us to get some insights on the feature-set.\n",
    "* Testing multiple algorithms with default hyperparamters gave us some understanding for various models performance on this specific dataset.\n",
    "* It is moderate safe to use ***Gradientboosting regressor algorithm***, which performed better than other algorithms, as their scores were quiet comparable & also they're more generalisable."
   ]
  },
  {
   "cell_type": "markdown",
   "id": "0b1d317f-4b22-4ebf-a0ef-3df9087629b0",
   "metadata": {},
   "source": [
    "# Thank You"
   ]
  },
  {
   "cell_type": "markdown",
   "id": "5bdcb3f4-9f7e-4c87-a2b0-cfecb6207deb",
   "metadata": {},
   "source": [
    "##### Questions to Evalute :\n",
    "1. Your views about the problem statement?\n",
    "3. What will be your approach to solving this task?\n",
    "4. What were the available ML model options you had to perform this task?\n",
    "5. Which model’s performance is best and what could be the possible reason for that?\n",
    "6. What steps can you take to improve this selected model’s performance even further?"
   ]
  },
  {
   "cell_type": "markdown",
   "id": "7017ea0b-d6b1-4d20-9658-85dcad7e3f93",
   "metadata": {},
   "source": [
    "##### Preferrable Answers :\n",
    "1. The objective of the study is to analyse the salary dataset obtained from “Tech Works Consulting” and to conduct various statistical hypothesis tests to get meaningful information from it. Our goal here is to understand the data as much as possible, comparing different models of regression and statistical algorithms to train the dataset and predict a continuous target variable. A thorough study of the data will aid in the discovery of valuable insights that will predict salary for employees.\n",
    "2. My approach would be using Regression Machine learning algorthims to evalute the datas with proper structured analysis by python frameworks and libraries. With clear visualization of datas, we can get some idea to working on it. (Everything evaluted and visualized above)\n",
    "3. Linear Regression, Lasso, Ridge, DecisionTree, XGBRegressor, RandomForestRegressor, GradientBoostingRegressor and AdaBoostRegressor.(My preference)\n",
    "4. The GradientBoostingRegressor strikes a good balance between capturing the complexity of the data (reducing bias) and avoiding overfitting (reducing variance). Its balanced performance on both training and testing datasets.\n",
    "5. By Hyperparameter Tuning especially using gridsearchcv to get multiple combination of parameters to get a balanced performance with lowest rmse value and difference gap between train r2score and testr2 score. "
   ]
  }
 ],
 "metadata": {
  "kernelspec": {
   "display_name": "Python 3 (ipykernel)",
   "language": "python",
   "name": "python3"
  },
  "language_info": {
   "codemirror_mode": {
    "name": "ipython",
    "version": 3
   },
   "file_extension": ".py",
   "mimetype": "text/x-python",
   "name": "python",
   "nbconvert_exporter": "python",
   "pygments_lexer": "ipython3",
   "version": "3.11.7"
  }
 },
 "nbformat": 4,
 "nbformat_minor": 5
}
